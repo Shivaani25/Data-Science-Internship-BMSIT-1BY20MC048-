{
  "nbformat": 4,
  "nbformat_minor": 0,
  "metadata": {
    "colab": {
      "name": "Shivaani Harish Internship-2.ipynb",
      "provenance": [],
      "collapsed_sections": [],
      "authorship_tag": "ABX9TyPh2dBawZIKO/P8o8v2lQOs",
      "include_colab_link": true
    },
    "kernelspec": {
      "name": "python3",
      "display_name": "Python 3"
    },
    "language_info": {
      "name": "python"
    }
  },
  "cells": [
    {
      "cell_type": "markdown",
      "metadata": {
        "id": "view-in-github",
        "colab_type": "text"
      },
      "source": [
        "<a href=\"https://colab.research.google.com/github/Shivaani25/Python-Project/blob/main/Shivaani_Harish_Internship_2.ipynb\" target=\"_parent\"><img src=\"https://colab.research.google.com/assets/colab-badge.svg\" alt=\"Open In Colab\"/></a>"
      ]
    },
    {
      "cell_type": "markdown",
      "source": [
        "Task - 8 \n",
        "\n",
        "\n",
        "\n",
        "11-03-2021"
      ],
      "metadata": {
        "id": "cn1PQLGKg0_h"
      }
    },
    {
      "cell_type": "code",
      "execution_count": null,
      "metadata": {
        "id": "vwIYN8rcFxce"
      },
      "outputs": [],
      "source": [
        "#importing the library\n",
        "import pandas as pd\n"
      ]
    },
    {
      "cell_type": "code",
      "source": [
        "#importing the dataset\n",
        "df = pd.read_csv('m.csv')\n",
        "df.head()"
      ],
      "metadata": {
        "colab": {
          "base_uri": "https://localhost:8080/",
          "height": 285
        },
        "id": "wKKoN9X0GbhU",
        "outputId": "e67462c3-b475-4c81-b6d0-5c0f6ceb095d"
      },
      "execution_count": null,
      "outputs": [
        {
          "output_type": "execute_result",
          "data": {
            "text/plain": [
              "   Unnamed: 0  #                   Name Type 1  Type 2  HP  Attack  Defense  \\\n",
              "0           0  1              Bulbasaur  Grass  Poison  45      49       49   \n",
              "1           1  2                Ivysaur  Grass  Poison  60      62       63   \n",
              "2           2  3               Venusaur  Grass  Poison  80      82       83   \n",
              "3           3  3  VenusaurMega Venusaur  Grass  Poison  80     100      123   \n",
              "4           4  4             Charmander   Fire     NaN  39      52       43   \n",
              "\n",
              "   Sp. Atk  Sp. Def  Speed  Generation  Legendary   Avg_speed  count  \n",
              "0       65       65     45           1      False   66.444444      1  \n",
              "1       80       80     60           1      False   81.333333      1  \n",
              "2      100      100     80           1      False  101.250000      1  \n",
              "3      122      120     80           1      False  123.500000      1  \n",
              "4       60       50     65           1      False   60.769231      1  "
            ],
            "text/html": [
              "\n",
              "  <div id=\"df-723c528f-bcf9-4b0e-9f92-3602f3e2a69c\">\n",
              "    <div class=\"colab-df-container\">\n",
              "      <div>\n",
              "<style scoped>\n",
              "    .dataframe tbody tr th:only-of-type {\n",
              "        vertical-align: middle;\n",
              "    }\n",
              "\n",
              "    .dataframe tbody tr th {\n",
              "        vertical-align: top;\n",
              "    }\n",
              "\n",
              "    .dataframe thead th {\n",
              "        text-align: right;\n",
              "    }\n",
              "</style>\n",
              "<table border=\"1\" class=\"dataframe\">\n",
              "  <thead>\n",
              "    <tr style=\"text-align: right;\">\n",
              "      <th></th>\n",
              "      <th>Unnamed: 0</th>\n",
              "      <th>#</th>\n",
              "      <th>Name</th>\n",
              "      <th>Type 1</th>\n",
              "      <th>Type 2</th>\n",
              "      <th>HP</th>\n",
              "      <th>Attack</th>\n",
              "      <th>Defense</th>\n",
              "      <th>Sp. Atk</th>\n",
              "      <th>Sp. Def</th>\n",
              "      <th>Speed</th>\n",
              "      <th>Generation</th>\n",
              "      <th>Legendary</th>\n",
              "      <th>Avg_speed</th>\n",
              "      <th>count</th>\n",
              "    </tr>\n",
              "  </thead>\n",
              "  <tbody>\n",
              "    <tr>\n",
              "      <th>0</th>\n",
              "      <td>0</td>\n",
              "      <td>1</td>\n",
              "      <td>Bulbasaur</td>\n",
              "      <td>Grass</td>\n",
              "      <td>Poison</td>\n",
              "      <td>45</td>\n",
              "      <td>49</td>\n",
              "      <td>49</td>\n",
              "      <td>65</td>\n",
              "      <td>65</td>\n",
              "      <td>45</td>\n",
              "      <td>1</td>\n",
              "      <td>False</td>\n",
              "      <td>66.444444</td>\n",
              "      <td>1</td>\n",
              "    </tr>\n",
              "    <tr>\n",
              "      <th>1</th>\n",
              "      <td>1</td>\n",
              "      <td>2</td>\n",
              "      <td>Ivysaur</td>\n",
              "      <td>Grass</td>\n",
              "      <td>Poison</td>\n",
              "      <td>60</td>\n",
              "      <td>62</td>\n",
              "      <td>63</td>\n",
              "      <td>80</td>\n",
              "      <td>80</td>\n",
              "      <td>60</td>\n",
              "      <td>1</td>\n",
              "      <td>False</td>\n",
              "      <td>81.333333</td>\n",
              "      <td>1</td>\n",
              "    </tr>\n",
              "    <tr>\n",
              "      <th>2</th>\n",
              "      <td>2</td>\n",
              "      <td>3</td>\n",
              "      <td>Venusaur</td>\n",
              "      <td>Grass</td>\n",
              "      <td>Poison</td>\n",
              "      <td>80</td>\n",
              "      <td>82</td>\n",
              "      <td>83</td>\n",
              "      <td>100</td>\n",
              "      <td>100</td>\n",
              "      <td>80</td>\n",
              "      <td>1</td>\n",
              "      <td>False</td>\n",
              "      <td>101.250000</td>\n",
              "      <td>1</td>\n",
              "    </tr>\n",
              "    <tr>\n",
              "      <th>3</th>\n",
              "      <td>3</td>\n",
              "      <td>3</td>\n",
              "      <td>VenusaurMega Venusaur</td>\n",
              "      <td>Grass</td>\n",
              "      <td>Poison</td>\n",
              "      <td>80</td>\n",
              "      <td>100</td>\n",
              "      <td>123</td>\n",
              "      <td>122</td>\n",
              "      <td>120</td>\n",
              "      <td>80</td>\n",
              "      <td>1</td>\n",
              "      <td>False</td>\n",
              "      <td>123.500000</td>\n",
              "      <td>1</td>\n",
              "    </tr>\n",
              "    <tr>\n",
              "      <th>4</th>\n",
              "      <td>4</td>\n",
              "      <td>4</td>\n",
              "      <td>Charmander</td>\n",
              "      <td>Fire</td>\n",
              "      <td>NaN</td>\n",
              "      <td>39</td>\n",
              "      <td>52</td>\n",
              "      <td>43</td>\n",
              "      <td>60</td>\n",
              "      <td>50</td>\n",
              "      <td>65</td>\n",
              "      <td>1</td>\n",
              "      <td>False</td>\n",
              "      <td>60.769231</td>\n",
              "      <td>1</td>\n",
              "    </tr>\n",
              "  </tbody>\n",
              "</table>\n",
              "</div>\n",
              "      <button class=\"colab-df-convert\" onclick=\"convertToInteractive('df-723c528f-bcf9-4b0e-9f92-3602f3e2a69c')\"\n",
              "              title=\"Convert this dataframe to an interactive table.\"\n",
              "              style=\"display:none;\">\n",
              "        \n",
              "  <svg xmlns=\"http://www.w3.org/2000/svg\" height=\"24px\"viewBox=\"0 0 24 24\"\n",
              "       width=\"24px\">\n",
              "    <path d=\"M0 0h24v24H0V0z\" fill=\"none\"/>\n",
              "    <path d=\"M18.56 5.44l.94 2.06.94-2.06 2.06-.94-2.06-.94-.94-2.06-.94 2.06-2.06.94zm-11 1L8.5 8.5l.94-2.06 2.06-.94-2.06-.94L8.5 2.5l-.94 2.06-2.06.94zm10 10l.94 2.06.94-2.06 2.06-.94-2.06-.94-.94-2.06-.94 2.06-2.06.94z\"/><path d=\"M17.41 7.96l-1.37-1.37c-.4-.4-.92-.59-1.43-.59-.52 0-1.04.2-1.43.59L10.3 9.45l-7.72 7.72c-.78.78-.78 2.05 0 2.83L4 21.41c.39.39.9.59 1.41.59.51 0 1.02-.2 1.41-.59l7.78-7.78 2.81-2.81c.8-.78.8-2.07 0-2.86zM5.41 20L4 18.59l7.72-7.72 1.47 1.35L5.41 20z\"/>\n",
              "  </svg>\n",
              "      </button>\n",
              "      \n",
              "  <style>\n",
              "    .colab-df-container {\n",
              "      display:flex;\n",
              "      flex-wrap:wrap;\n",
              "      gap: 12px;\n",
              "    }\n",
              "\n",
              "    .colab-df-convert {\n",
              "      background-color: #E8F0FE;\n",
              "      border: none;\n",
              "      border-radius: 50%;\n",
              "      cursor: pointer;\n",
              "      display: none;\n",
              "      fill: #1967D2;\n",
              "      height: 32px;\n",
              "      padding: 0 0 0 0;\n",
              "      width: 32px;\n",
              "    }\n",
              "\n",
              "    .colab-df-convert:hover {\n",
              "      background-color: #E2EBFA;\n",
              "      box-shadow: 0px 1px 2px rgba(60, 64, 67, 0.3), 0px 1px 3px 1px rgba(60, 64, 67, 0.15);\n",
              "      fill: #174EA6;\n",
              "    }\n",
              "\n",
              "    [theme=dark] .colab-df-convert {\n",
              "      background-color: #3B4455;\n",
              "      fill: #D2E3FC;\n",
              "    }\n",
              "\n",
              "    [theme=dark] .colab-df-convert:hover {\n",
              "      background-color: #434B5C;\n",
              "      box-shadow: 0px 1px 3px 1px rgba(0, 0, 0, 0.15);\n",
              "      filter: drop-shadow(0px 1px 2px rgba(0, 0, 0, 0.3));\n",
              "      fill: #FFFFFF;\n",
              "    }\n",
              "  </style>\n",
              "\n",
              "      <script>\n",
              "        const buttonEl =\n",
              "          document.querySelector('#df-723c528f-bcf9-4b0e-9f92-3602f3e2a69c button.colab-df-convert');\n",
              "        buttonEl.style.display =\n",
              "          google.colab.kernel.accessAllowed ? 'block' : 'none';\n",
              "\n",
              "        async function convertToInteractive(key) {\n",
              "          const element = document.querySelector('#df-723c528f-bcf9-4b0e-9f92-3602f3e2a69c');\n",
              "          const dataTable =\n",
              "            await google.colab.kernel.invokeFunction('convertToInteractive',\n",
              "                                                     [key], {});\n",
              "          if (!dataTable) return;\n",
              "\n",
              "          const docLinkHtml = 'Like what you see? Visit the ' +\n",
              "            '<a target=\"_blank\" href=https://colab.research.google.com/notebooks/data_table.ipynb>data table notebook</a>'\n",
              "            + ' to learn more about interactive tables.';\n",
              "          element.innerHTML = '';\n",
              "          dataTable['output_type'] = 'display_data';\n",
              "          await google.colab.output.renderOutput(dataTable, element);\n",
              "          const docLink = document.createElement('div');\n",
              "          docLink.innerHTML = docLinkHtml;\n",
              "          element.appendChild(docLink);\n",
              "        }\n",
              "      </script>\n",
              "    </div>\n",
              "  </div>\n",
              "  "
            ]
          },
          "metadata": {},
          "execution_count": 4
        }
      ]
    },
    {
      "cell_type": "code",
      "source": [
        "df['HP']"
      ],
      "metadata": {
        "id": "gsMfeOxlNnpi",
        "outputId": "afdefd29-3957-43d9-b1d0-8feb3892b39c",
        "colab": {
          "base_uri": "https://localhost:8080/"
        }
      },
      "execution_count": null,
      "outputs": [
        {
          "output_type": "execute_result",
          "data": {
            "text/plain": [
              "0      45\n",
              "1      60\n",
              "2      80\n",
              "3      80\n",
              "4      39\n",
              "       ..\n",
              "795    50\n",
              "796    50\n",
              "797    80\n",
              "798    80\n",
              "799    80\n",
              "Name: HP, Length: 800, dtype: int64"
            ]
          },
          "metadata": {},
          "execution_count": 5
        }
      ]
    },
    {
      "cell_type": "code",
      "source": [
        "df.columns"
      ],
      "metadata": {
        "colab": {
          "base_uri": "https://localhost:8080/"
        },
        "id": "gkmg3cGEHo55",
        "outputId": "f67ed4de-fdad-4f5a-eb89-a6d4034729ba"
      },
      "execution_count": null,
      "outputs": [
        {
          "output_type": "execute_result",
          "data": {
            "text/plain": [
              "Index(['Unnamed: 0', '#', 'Name', 'Type 1', 'Type 2', 'HP', 'Attack',\n",
              "       'Defense', 'Sp. Atk', 'Sp. Def', 'Speed', 'Generation', 'Legendary',\n",
              "       'Avg_speed', 'count'],\n",
              "      dtype='object')"
            ]
          },
          "metadata": {},
          "execution_count": 7
        }
      ]
    },
    {
      "cell_type": "code",
      "source": [
        "df.iloc[2,1]"
      ],
      "metadata": {
        "colab": {
          "base_uri": "https://localhost:8080/"
        },
        "id": "fdUKga52H_XZ",
        "outputId": "15c8e56b-b3ef-4b44-f743-e30201e02d96"
      },
      "execution_count": null,
      "outputs": [
        {
          "output_type": "execute_result",
          "data": {
            "text/plain": [
              "3"
            ]
          },
          "metadata": {},
          "execution_count": 8
        }
      ]
    },
    {
      "cell_type": "code",
      "source": [
        "df.iloc[4,2]"
      ],
      "metadata": {
        "colab": {
          "base_uri": "https://localhost:8080/",
          "height": 35
        },
        "id": "ljRauJKDIpFV",
        "outputId": "4fe8bdfa-c199-4e26-8594-6ea564d2dd2f"
      },
      "execution_count": null,
      "outputs": [
        {
          "output_type": "execute_result",
          "data": {
            "application/vnd.google.colaboratory.intrinsic+json": {
              "type": "string"
            },
            "text/plain": [
              "'Charmander'"
            ]
          },
          "metadata": {},
          "execution_count": 9
        }
      ]
    },
    {
      "cell_type": "code",
      "source": [
        "#sorting and describing the data\n",
        "df.sort_values(['Type 1','HP'],ascending=[1,0])"
      ],
      "metadata": {
        "colab": {
          "base_uri": "https://localhost:8080/",
          "height": 522
        },
        "id": "AIiSZIOdI8ot",
        "outputId": "7c3566ba-4018-47ab-a990-40c9c22b3683"
      },
      "execution_count": null,
      "outputs": [
        {
          "output_type": "execute_result",
          "data": {
            "text/html": [
              "\n",
              "  <div id=\"df-ae717ce8-67d1-4cb6-a1cb-ce0f943ced18\">\n",
              "    <div class=\"colab-df-container\">\n",
              "      <div>\n",
              "<style scoped>\n",
              "    .dataframe tbody tr th:only-of-type {\n",
              "        vertical-align: middle;\n",
              "    }\n",
              "\n",
              "    .dataframe tbody tr th {\n",
              "        vertical-align: top;\n",
              "    }\n",
              "\n",
              "    .dataframe thead th {\n",
              "        text-align: right;\n",
              "    }\n",
              "</style>\n",
              "<table border=\"1\" class=\"dataframe\">\n",
              "  <thead>\n",
              "    <tr style=\"text-align: right;\">\n",
              "      <th></th>\n",
              "      <th>Unnamed: 0</th>\n",
              "      <th>#</th>\n",
              "      <th>Name</th>\n",
              "      <th>Type 1</th>\n",
              "      <th>Type 2</th>\n",
              "      <th>HP</th>\n",
              "      <th>Attack</th>\n",
              "      <th>Defense</th>\n",
              "      <th>Sp. Atk</th>\n",
              "      <th>Sp. Def</th>\n",
              "      <th>Speed</th>\n",
              "      <th>Generation</th>\n",
              "      <th>Legendary</th>\n",
              "      <th>Avg_speed</th>\n",
              "      <th>count</th>\n",
              "    </tr>\n",
              "  </thead>\n",
              "  <tbody>\n",
              "    <tr>\n",
              "      <th>520</th>\n",
              "      <td>520</td>\n",
              "      <td>469</td>\n",
              "      <td>Yanmega</td>\n",
              "      <td>Bug</td>\n",
              "      <td>Flying</td>\n",
              "      <td>86</td>\n",
              "      <td>76</td>\n",
              "      <td>86</td>\n",
              "      <td>116</td>\n",
              "      <td>56</td>\n",
              "      <td>95</td>\n",
              "      <td>4</td>\n",
              "      <td>False</td>\n",
              "      <td>116.589474</td>\n",
              "      <td>1</td>\n",
              "    </tr>\n",
              "    <tr>\n",
              "      <th>698</th>\n",
              "      <td>698</td>\n",
              "      <td>637</td>\n",
              "      <td>Volcarona</td>\n",
              "      <td>Bug</td>\n",
              "      <td>Fire</td>\n",
              "      <td>85</td>\n",
              "      <td>60</td>\n",
              "      <td>65</td>\n",
              "      <td>135</td>\n",
              "      <td>105</td>\n",
              "      <td>100</td>\n",
              "      <td>5</td>\n",
              "      <td>False</td>\n",
              "      <td>136.050000</td>\n",
              "      <td>1</td>\n",
              "    </tr>\n",
              "    <tr>\n",
              "      <th>231</th>\n",
              "      <td>231</td>\n",
              "      <td>214</td>\n",
              "      <td>Heracross</td>\n",
              "      <td>Bug</td>\n",
              "      <td>Fighting</td>\n",
              "      <td>80</td>\n",
              "      <td>125</td>\n",
              "      <td>75</td>\n",
              "      <td>40</td>\n",
              "      <td>95</td>\n",
              "      <td>85</td>\n",
              "      <td>2</td>\n",
              "      <td>False</td>\n",
              "      <td>41.117647</td>\n",
              "      <td>1</td>\n",
              "    </tr>\n",
              "    <tr>\n",
              "      <th>232</th>\n",
              "      <td>232</td>\n",
              "      <td>214</td>\n",
              "      <td>HeracrossMega Heracross</td>\n",
              "      <td>Bug</td>\n",
              "      <td>Fighting</td>\n",
              "      <td>80</td>\n",
              "      <td>185</td>\n",
              "      <td>115</td>\n",
              "      <td>40</td>\n",
              "      <td>105</td>\n",
              "      <td>75</td>\n",
              "      <td>2</td>\n",
              "      <td>False</td>\n",
              "      <td>41.400000</td>\n",
              "      <td>1</td>\n",
              "    </tr>\n",
              "    <tr>\n",
              "      <th>678</th>\n",
              "      <td>678</td>\n",
              "      <td>617</td>\n",
              "      <td>Accelgor</td>\n",
              "      <td>Bug</td>\n",
              "      <td>NaN</td>\n",
              "      <td>80</td>\n",
              "      <td>70</td>\n",
              "      <td>40</td>\n",
              "      <td>100</td>\n",
              "      <td>60</td>\n",
              "      <td>145</td>\n",
              "      <td>5</td>\n",
              "      <td>False</td>\n",
              "      <td>100.413793</td>\n",
              "      <td>1</td>\n",
              "    </tr>\n",
              "    <tr>\n",
              "      <th>...</th>\n",
              "      <td>...</td>\n",
              "      <td>...</td>\n",
              "      <td>...</td>\n",
              "      <td>...</td>\n",
              "      <td>...</td>\n",
              "      <td>...</td>\n",
              "      <td>...</td>\n",
              "      <td>...</td>\n",
              "      <td>...</td>\n",
              "      <td>...</td>\n",
              "      <td>...</td>\n",
              "      <td>...</td>\n",
              "      <td>...</td>\n",
              "      <td>...</td>\n",
              "      <td>...</td>\n",
              "    </tr>\n",
              "    <tr>\n",
              "      <th>106</th>\n",
              "      <td>106</td>\n",
              "      <td>98</td>\n",
              "      <td>Krabby</td>\n",
              "      <td>Water</td>\n",
              "      <td>NaN</td>\n",
              "      <td>30</td>\n",
              "      <td>105</td>\n",
              "      <td>90</td>\n",
              "      <td>25</td>\n",
              "      <td>25</td>\n",
              "      <td>50</td>\n",
              "      <td>1</td>\n",
              "      <td>False</td>\n",
              "      <td>25.500000</td>\n",
              "      <td>1</td>\n",
              "    </tr>\n",
              "    <tr>\n",
              "      <th>125</th>\n",
              "      <td>125</td>\n",
              "      <td>116</td>\n",
              "      <td>Horsea</td>\n",
              "      <td>Water</td>\n",
              "      <td>NaN</td>\n",
              "      <td>30</td>\n",
              "      <td>40</td>\n",
              "      <td>70</td>\n",
              "      <td>70</td>\n",
              "      <td>25</td>\n",
              "      <td>60</td>\n",
              "      <td>1</td>\n",
              "      <td>False</td>\n",
              "      <td>70.416667</td>\n",
              "      <td>1</td>\n",
              "    </tr>\n",
              "    <tr>\n",
              "      <th>129</th>\n",
              "      <td>129</td>\n",
              "      <td>120</td>\n",
              "      <td>Staryu</td>\n",
              "      <td>Water</td>\n",
              "      <td>NaN</td>\n",
              "      <td>30</td>\n",
              "      <td>45</td>\n",
              "      <td>55</td>\n",
              "      <td>70</td>\n",
              "      <td>55</td>\n",
              "      <td>85</td>\n",
              "      <td>1</td>\n",
              "      <td>False</td>\n",
              "      <td>70.647059</td>\n",
              "      <td>1</td>\n",
              "    </tr>\n",
              "    <tr>\n",
              "      <th>139</th>\n",
              "      <td>139</td>\n",
              "      <td>129</td>\n",
              "      <td>Magikarp</td>\n",
              "      <td>Water</td>\n",
              "      <td>NaN</td>\n",
              "      <td>20</td>\n",
              "      <td>10</td>\n",
              "      <td>55</td>\n",
              "      <td>15</td>\n",
              "      <td>20</td>\n",
              "      <td>80</td>\n",
              "      <td>1</td>\n",
              "      <td>False</td>\n",
              "      <td>15.250000</td>\n",
              "      <td>1</td>\n",
              "    </tr>\n",
              "    <tr>\n",
              "      <th>381</th>\n",
              "      <td>381</td>\n",
              "      <td>349</td>\n",
              "      <td>Feebas</td>\n",
              "      <td>Water</td>\n",
              "      <td>NaN</td>\n",
              "      <td>20</td>\n",
              "      <td>15</td>\n",
              "      <td>20</td>\n",
              "      <td>10</td>\n",
              "      <td>55</td>\n",
              "      <td>80</td>\n",
              "      <td>3</td>\n",
              "      <td>False</td>\n",
              "      <td>10.687500</td>\n",
              "      <td>1</td>\n",
              "    </tr>\n",
              "  </tbody>\n",
              "</table>\n",
              "<p>800 rows × 15 columns</p>\n",
              "</div>\n",
              "      <button class=\"colab-df-convert\" onclick=\"convertToInteractive('df-ae717ce8-67d1-4cb6-a1cb-ce0f943ced18')\"\n",
              "              title=\"Convert this dataframe to an interactive table.\"\n",
              "              style=\"display:none;\">\n",
              "        \n",
              "  <svg xmlns=\"http://www.w3.org/2000/svg\" height=\"24px\"viewBox=\"0 0 24 24\"\n",
              "       width=\"24px\">\n",
              "    <path d=\"M0 0h24v24H0V0z\" fill=\"none\"/>\n",
              "    <path d=\"M18.56 5.44l.94 2.06.94-2.06 2.06-.94-2.06-.94-.94-2.06-.94 2.06-2.06.94zm-11 1L8.5 8.5l.94-2.06 2.06-.94-2.06-.94L8.5 2.5l-.94 2.06-2.06.94zm10 10l.94 2.06.94-2.06 2.06-.94-2.06-.94-.94-2.06-.94 2.06-2.06.94z\"/><path d=\"M17.41 7.96l-1.37-1.37c-.4-.4-.92-.59-1.43-.59-.52 0-1.04.2-1.43.59L10.3 9.45l-7.72 7.72c-.78.78-.78 2.05 0 2.83L4 21.41c.39.39.9.59 1.41.59.51 0 1.02-.2 1.41-.59l7.78-7.78 2.81-2.81c.8-.78.8-2.07 0-2.86zM5.41 20L4 18.59l7.72-7.72 1.47 1.35L5.41 20z\"/>\n",
              "  </svg>\n",
              "      </button>\n",
              "      \n",
              "  <style>\n",
              "    .colab-df-container {\n",
              "      display:flex;\n",
              "      flex-wrap:wrap;\n",
              "      gap: 12px;\n",
              "    }\n",
              "\n",
              "    .colab-df-convert {\n",
              "      background-color: #E8F0FE;\n",
              "      border: none;\n",
              "      border-radius: 50%;\n",
              "      cursor: pointer;\n",
              "      display: none;\n",
              "      fill: #1967D2;\n",
              "      height: 32px;\n",
              "      padding: 0 0 0 0;\n",
              "      width: 32px;\n",
              "    }\n",
              "\n",
              "    .colab-df-convert:hover {\n",
              "      background-color: #E2EBFA;\n",
              "      box-shadow: 0px 1px 2px rgba(60, 64, 67, 0.3), 0px 1px 3px 1px rgba(60, 64, 67, 0.15);\n",
              "      fill: #174EA6;\n",
              "    }\n",
              "\n",
              "    [theme=dark] .colab-df-convert {\n",
              "      background-color: #3B4455;\n",
              "      fill: #D2E3FC;\n",
              "    }\n",
              "\n",
              "    [theme=dark] .colab-df-convert:hover {\n",
              "      background-color: #434B5C;\n",
              "      box-shadow: 0px 1px 3px 1px rgba(0, 0, 0, 0.15);\n",
              "      filter: drop-shadow(0px 1px 2px rgba(0, 0, 0, 0.3));\n",
              "      fill: #FFFFFF;\n",
              "    }\n",
              "  </style>\n",
              "\n",
              "      <script>\n",
              "        const buttonEl =\n",
              "          document.querySelector('#df-ae717ce8-67d1-4cb6-a1cb-ce0f943ced18 button.colab-df-convert');\n",
              "        buttonEl.style.display =\n",
              "          google.colab.kernel.accessAllowed ? 'block' : 'none';\n",
              "\n",
              "        async function convertToInteractive(key) {\n",
              "          const element = document.querySelector('#df-ae717ce8-67d1-4cb6-a1cb-ce0f943ced18');\n",
              "          const dataTable =\n",
              "            await google.colab.kernel.invokeFunction('convertToInteractive',\n",
              "                                                     [key], {});\n",
              "          if (!dataTable) return;\n",
              "\n",
              "          const docLinkHtml = 'Like what you see? Visit the ' +\n",
              "            '<a target=\"_blank\" href=https://colab.research.google.com/notebooks/data_table.ipynb>data table notebook</a>'\n",
              "            + ' to learn more about interactive tables.';\n",
              "          element.innerHTML = '';\n",
              "          dataTable['output_type'] = 'display_data';\n",
              "          await google.colab.output.renderOutput(dataTable, element);\n",
              "          const docLink = document.createElement('div');\n",
              "          docLink.innerHTML = docLinkHtml;\n",
              "          element.appendChild(docLink);\n",
              "        }\n",
              "      </script>\n",
              "    </div>\n",
              "  </div>\n",
              "  "
            ],
            "text/plain": [
              "     Unnamed: 0    #                     Name Type 1    Type 2  HP  Attack  \\\n",
              "520         520  469                  Yanmega    Bug    Flying  86      76   \n",
              "698         698  637                Volcarona    Bug      Fire  85      60   \n",
              "231         231  214                Heracross    Bug  Fighting  80     125   \n",
              "232         232  214  HeracrossMega Heracross    Bug  Fighting  80     185   \n",
              "678         678  617                 Accelgor    Bug       NaN  80      70   \n",
              "..          ...  ...                      ...    ...       ...  ..     ...   \n",
              "106         106   98                   Krabby  Water       NaN  30     105   \n",
              "125         125  116                   Horsea  Water       NaN  30      40   \n",
              "129         129  120                   Staryu  Water       NaN  30      45   \n",
              "139         139  129                 Magikarp  Water       NaN  20      10   \n",
              "381         381  349                   Feebas  Water       NaN  20      15   \n",
              "\n",
              "     Defense  Sp. Atk  Sp. Def  Speed  Generation  Legendary   Avg_speed  \\\n",
              "520       86      116       56     95           4      False  116.589474   \n",
              "698       65      135      105    100           5      False  136.050000   \n",
              "231       75       40       95     85           2      False   41.117647   \n",
              "232      115       40      105     75           2      False   41.400000   \n",
              "678       40      100       60    145           5      False  100.413793   \n",
              "..       ...      ...      ...    ...         ...        ...         ...   \n",
              "106       90       25       25     50           1      False   25.500000   \n",
              "125       70       70       25     60           1      False   70.416667   \n",
              "129       55       70       55     85           1      False   70.647059   \n",
              "139       55       15       20     80           1      False   15.250000   \n",
              "381       20       10       55     80           3      False   10.687500   \n",
              "\n",
              "     count  \n",
              "520      1  \n",
              "698      1  \n",
              "231      1  \n",
              "232      1  \n",
              "678      1  \n",
              "..     ...  \n",
              "106      1  \n",
              "125      1  \n",
              "129      1  \n",
              "139      1  \n",
              "381      1  \n",
              "\n",
              "[800 rows x 15 columns]"
            ]
          },
          "metadata": {},
          "execution_count": 12
        }
      ]
    },
    {
      "cell_type": "code",
      "source": [
        "df.sort_values['']"
      ],
      "metadata": {
        "id": "5nYM525yKAqm"
      },
      "execution_count": null,
      "outputs": []
    },
    {
      "cell_type": "code",
      "source": [
        "df['total']=df['HP']+df['Attack']+df['Defense']+df['Sp. Atk']+df['Sp. Def']+df['Speed']\n",
        "df['total']"
      ],
      "metadata": {
        "colab": {
          "base_uri": "https://localhost:8080/"
        },
        "id": "oHwJETfWKKje",
        "outputId": "13e87524-675f-4d1a-9491-97c615b4532e"
      },
      "execution_count": null,
      "outputs": [
        {
          "output_type": "execute_result",
          "data": {
            "text/plain": [
              "0      318\n",
              "1      405\n",
              "2      525\n",
              "3      625\n",
              "4      309\n",
              "      ... \n",
              "795    600\n",
              "796    700\n",
              "797    600\n",
              "798    680\n",
              "799    600\n",
              "Name: total, Length: 800, dtype: int64"
            ]
          },
          "metadata": {},
          "execution_count": 16
        }
      ]
    },
    {
      "cell_type": "code",
      "source": [
        "data = df.sort_values('Name',ascending=True)"
      ],
      "metadata": {
        "id": "y94FbeaHLnAl"
      },
      "execution_count": null,
      "outputs": []
    },
    {
      "cell_type": "code",
      "source": [
        "data.to_excel('filter.xlsx')"
      ],
      "metadata": {
        "id": "XMr54iuNPdFO"
      },
      "execution_count": null,
      "outputs": []
    },
    {
      "cell_type": "code",
      "source": [
        "new_df = df.loc[(df['Type 1']=='Grass') & (df['Type 2']=='Ice') & (df['HP']>70)]\n",
        "print(new_df)"
      ],
      "metadata": {
        "colab": {
          "base_uri": "https://localhost:8080/"
        },
        "id": "fcgHAM1KP27q",
        "outputId": "9693d599-ff54-40c5-95fd-1e8522c5262f"
      },
      "execution_count": null,
      "outputs": [
        {
          "output_type": "stream",
          "name": "stdout",
          "text": [
            "     Unnamed: 0    #                     Name Type 1 Type 2  HP  Attack  \\\n",
            "510         510  460                Abomasnow  Grass    Ice  90      92   \n",
            "511         511  460  AbomasnowMega Abomasnow  Grass    Ice  90     132   \n",
            "\n",
            "     Defense  Sp. Atk  Sp. Def  Speed  Generation  Legendary   Avg_speed  \\\n",
            "510       75       92       85     60           4      False   93.416667   \n",
            "511      105      132      105     30           4      False  135.500000   \n",
            "\n",
            "     count  total  \n",
            "510      1    494  \n",
            "511      1    594  \n"
          ]
        }
      ]
    },
    {
      "cell_type": "code",
      "source": [
        "print(df.groupby(['Type 1','Type 2']).count())"
      ],
      "metadata": {
        "colab": {
          "base_uri": "https://localhost:8080/"
        },
        "id": "UAUX4t20RWtw",
        "outputId": "9525726b-0159-4c93-9616-0a8c8d88217e"
      },
      "execution_count": null,
      "outputs": [
        {
          "output_type": "stream",
          "name": "stdout",
          "text": [
            "                 Unnamed: 0   #  Name  HP  Attack  Defense  Sp. Atk  Sp. Def  \\\n",
            "Type 1 Type 2                                                                  \n",
            "Bug    Electric           2   2     2   2       2        2        2        2   \n",
            "       Fighting           2   2     2   2       2        2        2        2   \n",
            "       Fire               2   2     2   2       2        2        2        2   \n",
            "       Flying            14  14    14  14      14       14       14       14   \n",
            "       Ghost              1   1     1   1       1        1        1        1   \n",
            "...                     ...  ..   ...  ..     ...      ...      ...      ...   \n",
            "Water  Ice                3   3     3   3       3        3        3        3   \n",
            "       Poison             3   3     3   3       3        3        3        3   \n",
            "       Psychic            5   5     5   5       5        5        5        5   \n",
            "       Rock               4   4     4   4       4        4        4        4   \n",
            "       Steel              1   1     1   1       1        1        1        1   \n",
            "\n",
            "                 Speed  Generation  Legendary  Avg_speed  count  total  \n",
            "Type 1 Type 2                                                           \n",
            "Bug    Electric      2           2          2          2      2      2  \n",
            "       Fighting      2           2          2          2      2      2  \n",
            "       Fire          2           2          2          2      2      2  \n",
            "       Flying       14          14         14         14     14     14  \n",
            "       Ghost         1           1          1          1      1      1  \n",
            "...                ...         ...        ...        ...    ...    ...  \n",
            "Water  Ice           3           3          3          3      3      3  \n",
            "       Poison        3           3          3          3      3      3  \n",
            "       Psychic       5           5          5          5      5      5  \n",
            "       Rock          4           4          4          4      4      4  \n",
            "       Steel         1           1          1          1      1      1  \n",
            "\n",
            "[136 rows x 14 columns]\n"
          ]
        }
      ]
    },
    {
      "cell_type": "code",
      "source": [
        "df.describe()"
      ],
      "metadata": {
        "colab": {
          "base_uri": "https://localhost:8080/",
          "height": 382
        },
        "id": "kSvtqlObScYy",
        "outputId": "7c8b7f6a-b2b9-4b19-c0a0-e794aef9bece"
      },
      "execution_count": null,
      "outputs": [
        {
          "output_type": "execute_result",
          "data": {
            "text/html": [
              "\n",
              "  <div id=\"df-9b84b9e7-d96f-4f68-bcc4-6e2f3b707447\">\n",
              "    <div class=\"colab-df-container\">\n",
              "      <div>\n",
              "<style scoped>\n",
              "    .dataframe tbody tr th:only-of-type {\n",
              "        vertical-align: middle;\n",
              "    }\n",
              "\n",
              "    .dataframe tbody tr th {\n",
              "        vertical-align: top;\n",
              "    }\n",
              "\n",
              "    .dataframe thead th {\n",
              "        text-align: right;\n",
              "    }\n",
              "</style>\n",
              "<table border=\"1\" class=\"dataframe\">\n",
              "  <thead>\n",
              "    <tr style=\"text-align: right;\">\n",
              "      <th></th>\n",
              "      <th>Unnamed: 0</th>\n",
              "      <th>#</th>\n",
              "      <th>HP</th>\n",
              "      <th>Attack</th>\n",
              "      <th>Defense</th>\n",
              "      <th>Sp. Atk</th>\n",
              "      <th>Sp. Def</th>\n",
              "      <th>Speed</th>\n",
              "      <th>Generation</th>\n",
              "      <th>Avg_speed</th>\n",
              "      <th>count</th>\n",
              "      <th>total</th>\n",
              "    </tr>\n",
              "  </thead>\n",
              "  <tbody>\n",
              "    <tr>\n",
              "      <th>count</th>\n",
              "      <td>800.0000</td>\n",
              "      <td>800.000000</td>\n",
              "      <td>800.000000</td>\n",
              "      <td>800.000000</td>\n",
              "      <td>800.000000</td>\n",
              "      <td>800.000000</td>\n",
              "      <td>800.000000</td>\n",
              "      <td>800.000000</td>\n",
              "      <td>800.00000</td>\n",
              "      <td>800.000000</td>\n",
              "      <td>800.0</td>\n",
              "      <td>800.00000</td>\n",
              "    </tr>\n",
              "    <tr>\n",
              "      <th>mean</th>\n",
              "      <td>399.5000</td>\n",
              "      <td>362.813750</td>\n",
              "      <td>69.258750</td>\n",
              "      <td>79.001250</td>\n",
              "      <td>73.842500</td>\n",
              "      <td>72.820000</td>\n",
              "      <td>71.902500</td>\n",
              "      <td>68.277500</td>\n",
              "      <td>3.32375</td>\n",
              "      <td>74.139987</td>\n",
              "      <td>1.0</td>\n",
              "      <td>435.10250</td>\n",
              "    </tr>\n",
              "    <tr>\n",
              "      <th>std</th>\n",
              "      <td>231.0844</td>\n",
              "      <td>208.343798</td>\n",
              "      <td>25.534669</td>\n",
              "      <td>32.457366</td>\n",
              "      <td>31.183501</td>\n",
              "      <td>32.722294</td>\n",
              "      <td>27.828916</td>\n",
              "      <td>29.060474</td>\n",
              "      <td>1.66129</td>\n",
              "      <td>32.631953</td>\n",
              "      <td>0.0</td>\n",
              "      <td>119.96304</td>\n",
              "    </tr>\n",
              "    <tr>\n",
              "      <th>min</th>\n",
              "      <td>0.0000</td>\n",
              "      <td>1.000000</td>\n",
              "      <td>1.000000</td>\n",
              "      <td>5.000000</td>\n",
              "      <td>5.000000</td>\n",
              "      <td>10.000000</td>\n",
              "      <td>20.000000</td>\n",
              "      <td>5.000000</td>\n",
              "      <td>1.00000</td>\n",
              "      <td>10.687500</td>\n",
              "      <td>1.0</td>\n",
              "      <td>180.00000</td>\n",
              "    </tr>\n",
              "    <tr>\n",
              "      <th>25%</th>\n",
              "      <td>199.7500</td>\n",
              "      <td>184.750000</td>\n",
              "      <td>50.000000</td>\n",
              "      <td>55.000000</td>\n",
              "      <td>50.000000</td>\n",
              "      <td>49.750000</td>\n",
              "      <td>50.000000</td>\n",
              "      <td>45.000000</td>\n",
              "      <td>2.00000</td>\n",
              "      <td>50.527778</td>\n",
              "      <td>1.0</td>\n",
              "      <td>330.00000</td>\n",
              "    </tr>\n",
              "    <tr>\n",
              "      <th>50%</th>\n",
              "      <td>399.5000</td>\n",
              "      <td>364.500000</td>\n",
              "      <td>65.000000</td>\n",
              "      <td>75.000000</td>\n",
              "      <td>70.000000</td>\n",
              "      <td>65.000000</td>\n",
              "      <td>70.000000</td>\n",
              "      <td>65.000000</td>\n",
              "      <td>3.00000</td>\n",
              "      <td>66.444444</td>\n",
              "      <td>1.0</td>\n",
              "      <td>450.00000</td>\n",
              "    </tr>\n",
              "    <tr>\n",
              "      <th>75%</th>\n",
              "      <td>599.2500</td>\n",
              "      <td>539.250000</td>\n",
              "      <td>80.000000</td>\n",
              "      <td>100.000000</td>\n",
              "      <td>90.000000</td>\n",
              "      <td>95.000000</td>\n",
              "      <td>90.000000</td>\n",
              "      <td>90.000000</td>\n",
              "      <td>5.00000</td>\n",
              "      <td>95.858300</td>\n",
              "      <td>1.0</td>\n",
              "      <td>515.00000</td>\n",
              "    </tr>\n",
              "    <tr>\n",
              "      <th>max</th>\n",
              "      <td>799.0000</td>\n",
              "      <td>721.000000</td>\n",
              "      <td>255.000000</td>\n",
              "      <td>190.000000</td>\n",
              "      <td>230.000000</td>\n",
              "      <td>194.000000</td>\n",
              "      <td>230.000000</td>\n",
              "      <td>180.000000</td>\n",
              "      <td>6.00000</td>\n",
              "      <td>194.857143</td>\n",
              "      <td>1.0</td>\n",
              "      <td>780.00000</td>\n",
              "    </tr>\n",
              "  </tbody>\n",
              "</table>\n",
              "</div>\n",
              "      <button class=\"colab-df-convert\" onclick=\"convertToInteractive('df-9b84b9e7-d96f-4f68-bcc4-6e2f3b707447')\"\n",
              "              title=\"Convert this dataframe to an interactive table.\"\n",
              "              style=\"display:none;\">\n",
              "        \n",
              "  <svg xmlns=\"http://www.w3.org/2000/svg\" height=\"24px\"viewBox=\"0 0 24 24\"\n",
              "       width=\"24px\">\n",
              "    <path d=\"M0 0h24v24H0V0z\" fill=\"none\"/>\n",
              "    <path d=\"M18.56 5.44l.94 2.06.94-2.06 2.06-.94-2.06-.94-.94-2.06-.94 2.06-2.06.94zm-11 1L8.5 8.5l.94-2.06 2.06-.94-2.06-.94L8.5 2.5l-.94 2.06-2.06.94zm10 10l.94 2.06.94-2.06 2.06-.94-2.06-.94-.94-2.06-.94 2.06-2.06.94z\"/><path d=\"M17.41 7.96l-1.37-1.37c-.4-.4-.92-.59-1.43-.59-.52 0-1.04.2-1.43.59L10.3 9.45l-7.72 7.72c-.78.78-.78 2.05 0 2.83L4 21.41c.39.39.9.59 1.41.59.51 0 1.02-.2 1.41-.59l7.78-7.78 2.81-2.81c.8-.78.8-2.07 0-2.86zM5.41 20L4 18.59l7.72-7.72 1.47 1.35L5.41 20z\"/>\n",
              "  </svg>\n",
              "      </button>\n",
              "      \n",
              "  <style>\n",
              "    .colab-df-container {\n",
              "      display:flex;\n",
              "      flex-wrap:wrap;\n",
              "      gap: 12px;\n",
              "    }\n",
              "\n",
              "    .colab-df-convert {\n",
              "      background-color: #E8F0FE;\n",
              "      border: none;\n",
              "      border-radius: 50%;\n",
              "      cursor: pointer;\n",
              "      display: none;\n",
              "      fill: #1967D2;\n",
              "      height: 32px;\n",
              "      padding: 0 0 0 0;\n",
              "      width: 32px;\n",
              "    }\n",
              "\n",
              "    .colab-df-convert:hover {\n",
              "      background-color: #E2EBFA;\n",
              "      box-shadow: 0px 1px 2px rgba(60, 64, 67, 0.3), 0px 1px 3px 1px rgba(60, 64, 67, 0.15);\n",
              "      fill: #174EA6;\n",
              "    }\n",
              "\n",
              "    [theme=dark] .colab-df-convert {\n",
              "      background-color: #3B4455;\n",
              "      fill: #D2E3FC;\n",
              "    }\n",
              "\n",
              "    [theme=dark] .colab-df-convert:hover {\n",
              "      background-color: #434B5C;\n",
              "      box-shadow: 0px 1px 3px 1px rgba(0, 0, 0, 0.15);\n",
              "      filter: drop-shadow(0px 1px 2px rgba(0, 0, 0, 0.3));\n",
              "      fill: #FFFFFF;\n",
              "    }\n",
              "  </style>\n",
              "\n",
              "      <script>\n",
              "        const buttonEl =\n",
              "          document.querySelector('#df-9b84b9e7-d96f-4f68-bcc4-6e2f3b707447 button.colab-df-convert');\n",
              "        buttonEl.style.display =\n",
              "          google.colab.kernel.accessAllowed ? 'block' : 'none';\n",
              "\n",
              "        async function convertToInteractive(key) {\n",
              "          const element = document.querySelector('#df-9b84b9e7-d96f-4f68-bcc4-6e2f3b707447');\n",
              "          const dataTable =\n",
              "            await google.colab.kernel.invokeFunction('convertToInteractive',\n",
              "                                                     [key], {});\n",
              "          if (!dataTable) return;\n",
              "\n",
              "          const docLinkHtml = 'Like what you see? Visit the ' +\n",
              "            '<a target=\"_blank\" href=https://colab.research.google.com/notebooks/data_table.ipynb>data table notebook</a>'\n",
              "            + ' to learn more about interactive tables.';\n",
              "          element.innerHTML = '';\n",
              "          dataTable['output_type'] = 'display_data';\n",
              "          await google.colab.output.renderOutput(dataTable, element);\n",
              "          const docLink = document.createElement('div');\n",
              "          docLink.innerHTML = docLinkHtml;\n",
              "          element.appendChild(docLink);\n",
              "        }\n",
              "      </script>\n",
              "    </div>\n",
              "  </div>\n",
              "  "
            ],
            "text/plain": [
              "       Unnamed: 0           #          HP      Attack     Defense     Sp. Atk  \\\n",
              "count    800.0000  800.000000  800.000000  800.000000  800.000000  800.000000   \n",
              "mean     399.5000  362.813750   69.258750   79.001250   73.842500   72.820000   \n",
              "std      231.0844  208.343798   25.534669   32.457366   31.183501   32.722294   \n",
              "min        0.0000    1.000000    1.000000    5.000000    5.000000   10.000000   \n",
              "25%      199.7500  184.750000   50.000000   55.000000   50.000000   49.750000   \n",
              "50%      399.5000  364.500000   65.000000   75.000000   70.000000   65.000000   \n",
              "75%      599.2500  539.250000   80.000000  100.000000   90.000000   95.000000   \n",
              "max      799.0000  721.000000  255.000000  190.000000  230.000000  194.000000   \n",
              "\n",
              "          Sp. Def       Speed  Generation   Avg_speed  count      total  \n",
              "count  800.000000  800.000000   800.00000  800.000000  800.0  800.00000  \n",
              "mean    71.902500   68.277500     3.32375   74.139987    1.0  435.10250  \n",
              "std     27.828916   29.060474     1.66129   32.631953    0.0  119.96304  \n",
              "min     20.000000    5.000000     1.00000   10.687500    1.0  180.00000  \n",
              "25%     50.000000   45.000000     2.00000   50.527778    1.0  330.00000  \n",
              "50%     70.000000   65.000000     3.00000   66.444444    1.0  450.00000  \n",
              "75%     90.000000   90.000000     5.00000   95.858300    1.0  515.00000  \n",
              "max    230.000000  180.000000     6.00000  194.857143    1.0  780.00000  "
            ]
          },
          "metadata": {},
          "execution_count": 26
        }
      ]
    },
    {
      "cell_type": "markdown",
      "source": [
        "14-03-2022 Task-9\n",
        "\n",
        "\n",
        "\n",
        "Numpy : lets you work with huge, multidemensional martices and arrays"
      ],
      "metadata": {
        "id": "FdZBR-JSg-sE"
      }
    },
    {
      "cell_type": "code",
      "source": [
        "!pip3 install numpy"
      ],
      "metadata": {
        "colab": {
          "base_uri": "https://localhost:8080/"
        },
        "id": "0Gr2hGZPg-YJ",
        "outputId": "280d5dd5-6db5-4c30-a9cf-90fbc2c7e0c8"
      },
      "execution_count": null,
      "outputs": [
        {
          "output_type": "stream",
          "name": "stdout",
          "text": [
            "Requirement already satisfied: numpy in /usr/local/lib/python3.7/dist-packages (1.21.5)\n"
          ]
        }
      ]
    },
    {
      "cell_type": "code",
      "source": [
        "import numpy as np"
      ],
      "metadata": {
        "id": "zoswzHVHizl_"
      },
      "execution_count": null,
      "outputs": []
    },
    {
      "cell_type": "code",
      "source": [
        "d = np.empty((2,2,2))\n",
        "d"
      ],
      "metadata": {
        "colab": {
          "base_uri": "https://localhost:8080/"
        },
        "id": "_-OcqT9Yi3p4",
        "outputId": "bcc5d4c8-fa4d-40f8-ee5e-6f529c1f0da1"
      },
      "execution_count": null,
      "outputs": [
        {
          "output_type": "execute_result",
          "data": {
            "text/plain": [
              "array([[[4.67507000e-310, 6.79038653e-313],\n",
              "        [2.37663529e-312, 2.14321575e-312]],\n",
              "\n",
              "       [[2.37663529e-312, 5.73116149e-322],\n",
              "        [0.00000000e+000, 0.00000000e+000]]])"
            ]
          },
          "metadata": {},
          "execution_count": 5
        }
      ]
    },
    {
      "cell_type": "code",
      "source": [
        "np.empty((2,1))"
      ],
      "metadata": {
        "colab": {
          "base_uri": "https://localhost:8080/"
        },
        "id": "0ftGwuo1j2Au",
        "outputId": "38af9cac-cf74-44b9-b44d-c6eb8596f981"
      },
      "execution_count": null,
      "outputs": [
        {
          "output_type": "execute_result",
          "data": {
            "text/plain": [
              "array([[4.67506995e-310],\n",
              "       [0.00000000e+000]])"
            ]
          },
          "metadata": {},
          "execution_count": 6
        }
      ]
    },
    {
      "cell_type": "code",
      "source": [
        "np.zeros((3,2,1))"
      ],
      "metadata": {
        "colab": {
          "base_uri": "https://localhost:8080/"
        },
        "id": "d8dkfkidkKx2",
        "outputId": "4e1d4833-821d-4f87-bdc9-a9a930c88e81"
      },
      "execution_count": null,
      "outputs": [
        {
          "output_type": "execute_result",
          "data": {
            "text/plain": [
              "array([[[0.],\n",
              "        [0.]],\n",
              "\n",
              "       [[0.],\n",
              "        [0.]],\n",
              "\n",
              "       [[0.],\n",
              "        [0.]]])"
            ]
          },
          "metadata": {},
          "execution_count": 7
        }
      ]
    },
    {
      "cell_type": "code",
      "source": [
        "np.arange(2,10)"
      ],
      "metadata": {
        "colab": {
          "base_uri": "https://localhost:8080/"
        },
        "id": "jhj8rl-7kcP1",
        "outputId": "f3932725-5188-4bc0-d11f-17021ec82015"
      },
      "execution_count": null,
      "outputs": [
        {
          "output_type": "execute_result",
          "data": {
            "text/plain": [
              "array([2, 3, 4, 5, 6, 7, 8, 9])"
            ]
          },
          "metadata": {},
          "execution_count": 8
        }
      ]
    },
    {
      "cell_type": "code",
      "source": [
        "a = np.arange(2,10)\n",
        "type(a)"
      ],
      "metadata": {
        "colab": {
          "base_uri": "https://localhost:8080/"
        },
        "id": "8Z6FkUeRkliG",
        "outputId": "547fc6b9-768c-4c05-acd6-c0fcdcca83de"
      },
      "execution_count": null,
      "outputs": [
        {
          "output_type": "execute_result",
          "data": {
            "text/plain": [
              "numpy.ndarray"
            ]
          },
          "metadata": {},
          "execution_count": 9
        }
      ]
    },
    {
      "cell_type": "code",
      "source": [
        "np.linspace(10,20)"
      ],
      "metadata": {
        "colab": {
          "base_uri": "https://localhost:8080/"
        },
        "id": "nNMyMOctk-YP",
        "outputId": "830e59a2-94cb-4873-ac62-2362bb2c2150"
      },
      "execution_count": null,
      "outputs": [
        {
          "output_type": "execute_result",
          "data": {
            "text/plain": [
              "array([10.        , 10.20408163, 10.40816327, 10.6122449 , 10.81632653,\n",
              "       11.02040816, 11.2244898 , 11.42857143, 11.63265306, 11.83673469,\n",
              "       12.04081633, 12.24489796, 12.44897959, 12.65306122, 12.85714286,\n",
              "       13.06122449, 13.26530612, 13.46938776, 13.67346939, 13.87755102,\n",
              "       14.08163265, 14.28571429, 14.48979592, 14.69387755, 14.89795918,\n",
              "       15.10204082, 15.30612245, 15.51020408, 15.71428571, 15.91836735,\n",
              "       16.12244898, 16.32653061, 16.53061224, 16.73469388, 16.93877551,\n",
              "       17.14285714, 17.34693878, 17.55102041, 17.75510204, 17.95918367,\n",
              "       18.16326531, 18.36734694, 18.57142857, 18.7755102 , 18.97959184,\n",
              "       19.18367347, 19.3877551 , 19.59183673, 19.79591837, 20.        ])"
            ]
          },
          "metadata": {},
          "execution_count": 11
        }
      ]
    },
    {
      "cell_type": "code",
      "source": [
        "10.20408163 - 10.0"
      ],
      "metadata": {
        "colab": {
          "base_uri": "https://localhost:8080/"
        },
        "id": "KaQWqdi_lFxz",
        "outputId": "21c6fc42-3d6b-4705-ac41-b2206bed7aed"
      },
      "execution_count": null,
      "outputs": [
        {
          "output_type": "execute_result",
          "data": {
            "text/plain": [
              "0.20408162999999924"
            ]
          },
          "metadata": {},
          "execution_count": 12
        }
      ]
    },
    {
      "cell_type": "code",
      "source": [
        "10.40816327 - 0.20408162999999924"
      ],
      "metadata": {
        "colab": {
          "base_uri": "https://localhost:8080/"
        },
        "id": "z70I4cyLlSUN",
        "outputId": "3d53050e-5d62-4642-9b22-6a7c61bd55c2"
      },
      "execution_count": null,
      "outputs": [
        {
          "output_type": "execute_result",
          "data": {
            "text/plain": [
              "10.20408164"
            ]
          },
          "metadata": {},
          "execution_count": 13
        }
      ]
    },
    {
      "cell_type": "code",
      "source": [
        "np.linspace(1,10,5)"
      ],
      "metadata": {
        "colab": {
          "base_uri": "https://localhost:8080/"
        },
        "id": "Zt67dOXvlWZm",
        "outputId": "5c8d48bf-9ccc-4794-c31a-bf4956df566e"
      },
      "execution_count": null,
      "outputs": [
        {
          "output_type": "execute_result",
          "data": {
            "text/plain": [
              "array([ 1.  ,  3.25,  5.5 ,  7.75, 10.  ])"
            ]
          },
          "metadata": {},
          "execution_count": 14
        }
      ]
    },
    {
      "cell_type": "code",
      "source": [
        "3.25 - 1.00"
      ],
      "metadata": {
        "colab": {
          "base_uri": "https://localhost:8080/"
        },
        "id": "avY1wD5Nlloo",
        "outputId": "d0979e73-2b02-4a5c-c773-430a401800f4"
      },
      "execution_count": null,
      "outputs": [
        {
          "output_type": "execute_result",
          "data": {
            "text/plain": [
              "2.25"
            ]
          },
          "metadata": {},
          "execution_count": 15
        }
      ]
    },
    {
      "cell_type": "code",
      "source": [
        "5.5 - 3.25"
      ],
      "metadata": {
        "colab": {
          "base_uri": "https://localhost:8080/"
        },
        "id": "B3JXHESPlocY",
        "outputId": "531ad008-ccb5-411c-8cf0-6d6fe87241b8"
      },
      "execution_count": null,
      "outputs": [
        {
          "output_type": "execute_result",
          "data": {
            "text/plain": [
              "2.25"
            ]
          },
          "metadata": {},
          "execution_count": 16
        }
      ]
    },
    {
      "cell_type": "code",
      "source": [
        "np.logspace(1,10)"
      ],
      "metadata": {
        "colab": {
          "base_uri": "https://localhost:8080/"
        },
        "id": "AnKZCvdnlu5W",
        "outputId": "b3269cfb-b3d2-45c6-d8a6-51d13aa5158a"
      },
      "execution_count": null,
      "outputs": [
        {
          "output_type": "execute_result",
          "data": {
            "text/plain": [
              "array([1.00000000e+01, 1.52641797e+01, 2.32995181e+01, 3.55648031e+01,\n",
              "       5.42867544e+01, 8.28642773e+01, 1.26485522e+02, 1.93069773e+02,\n",
              "       2.94705170e+02, 4.49843267e+02, 6.86648845e+02, 1.04811313e+03,\n",
              "       1.59985872e+03, 2.44205309e+03, 3.72759372e+03, 5.68986603e+03,\n",
              "       8.68511374e+03, 1.32571137e+04, 2.02358965e+04, 3.08884360e+04,\n",
              "       4.71486636e+04, 7.19685673e+04, 1.09854114e+05, 1.67683294e+05,\n",
              "       2.55954792e+05, 3.90693994e+05, 5.96362332e+05, 9.10298178e+05,\n",
              "       1.38949549e+06, 2.12095089e+06, 3.23745754e+06, 4.94171336e+06,\n",
              "       7.54312006e+06, 1.15139540e+07, 1.75751062e+07, 2.68269580e+07,\n",
              "       4.09491506e+07, 6.25055193e+07, 9.54095476e+07, 1.45634848e+08,\n",
              "       2.22299648e+08, 3.39322177e+08, 5.17947468e+08, 7.90604321e+08,\n",
              "       1.20679264e+09, 1.84206997e+09, 2.81176870e+09, 4.29193426e+09,\n",
              "       6.55128557e+09, 1.00000000e+10])"
            ]
          },
          "metadata": {},
          "execution_count": 17
        }
      ]
    },
    {
      "cell_type": "code",
      "source": [
        "np.random.rand(2,2,2)"
      ],
      "metadata": {
        "colab": {
          "base_uri": "https://localhost:8080/"
        },
        "id": "8kVnNbL1mnev",
        "outputId": "11b947e0-439d-4a0f-dfd5-ca195d23dbd1"
      },
      "execution_count": null,
      "outputs": [
        {
          "output_type": "execute_result",
          "data": {
            "text/plain": [
              "array([[[0.42745328, 0.95000658],\n",
              "        [0.44794401, 0.34011048]],\n",
              "\n",
              "       [[0.06957384, 0.99359388],\n",
              "        [0.92751294, 0.60108939]]])"
            ]
          },
          "metadata": {},
          "execution_count": 18
        }
      ]
    },
    {
      "cell_type": "code",
      "source": [
        "d = np.random.randint(0,10,size =(5,5))"
      ],
      "metadata": {
        "id": "JG8C0c_fmsEK"
      },
      "execution_count": null,
      "outputs": []
    },
    {
      "cell_type": "code",
      "source": [
        "d"
      ],
      "metadata": {
        "colab": {
          "base_uri": "https://localhost:8080/"
        },
        "id": "wtt1sJpJm5Ha",
        "outputId": "de14c5fe-9a00-4bf8-fed6-ccb230702134"
      },
      "execution_count": null,
      "outputs": [
        {
          "output_type": "execute_result",
          "data": {
            "text/plain": [
              "array([[4, 5, 4, 5, 6],\n",
              "       [8, 1, 1, 0, 7],\n",
              "       [0, 8, 6, 9, 7],\n",
              "       [8, 1, 2, 3, 8],\n",
              "       [9, 4, 0, 4, 9]])"
            ]
          },
          "metadata": {},
          "execution_count": 20
        }
      ]
    },
    {
      "cell_type": "code",
      "source": [
        "a = np.random.randint(1,20,size =(6,6))\n",
        "a"
      ],
      "metadata": {
        "colab": {
          "base_uri": "https://localhost:8080/"
        },
        "id": "PJF7Osg0nJAC",
        "outputId": "a8eb698f-8797-4e40-bc13-547c963d02ec"
      },
      "execution_count": null,
      "outputs": [
        {
          "output_type": "execute_result",
          "data": {
            "text/plain": [
              "array([[12,  9,  6, 10,  5, 17],\n",
              "       [ 4, 10,  3, 13, 11, 13],\n",
              "       [18,  1,  3, 13, 15, 11],\n",
              "       [ 4,  9,  1,  4, 18, 11],\n",
              "       [ 2,  3, 19,  7, 14,  7],\n",
              "       [16,  4,  4,  7, 11, 16]])"
            ]
          },
          "metadata": {},
          "execution_count": 22
        }
      ]
    },
    {
      "cell_type": "code",
      "source": [
        "d[:,:]"
      ],
      "metadata": {
        "colab": {
          "base_uri": "https://localhost:8080/"
        },
        "id": "QbqEo6-onkrM",
        "outputId": "0c0bed88-08ab-4869-e2a4-50bc9009270e"
      },
      "execution_count": null,
      "outputs": [
        {
          "output_type": "execute_result",
          "data": {
            "text/plain": [
              "array([[4, 5, 4, 5, 6],\n",
              "       [8, 1, 1, 0, 7],\n",
              "       [0, 8, 6, 9, 7],\n",
              "       [8, 1, 2, 3, 8],\n",
              "       [9, 4, 0, 4, 9]])"
            ]
          },
          "metadata": {},
          "execution_count": 23
        }
      ]
    },
    {
      "cell_type": "code",
      "source": [
        "d[2:5]"
      ],
      "metadata": {
        "colab": {
          "base_uri": "https://localhost:8080/"
        },
        "id": "bzB_cyfUn711",
        "outputId": "8535f8c3-c292-4651-ff5f-5bde5651d1df"
      },
      "execution_count": null,
      "outputs": [
        {
          "output_type": "execute_result",
          "data": {
            "text/plain": [
              "array([[0, 8, 6, 9, 7],\n",
              "       [8, 1, 2, 3, 8],\n",
              "       [9, 4, 0, 4, 9]])"
            ]
          },
          "metadata": {},
          "execution_count": 24
        }
      ]
    },
    {
      "cell_type": "code",
      "source": [
        "d[2:5,1:3]"
      ],
      "metadata": {
        "colab": {
          "base_uri": "https://localhost:8080/"
        },
        "id": "qIwgnSTKn-Gf",
        "outputId": "af58853d-f99b-475d-831e-2530003bbc73"
      },
      "execution_count": null,
      "outputs": [
        {
          "output_type": "execute_result",
          "data": {
            "text/plain": [
              "array([[8, 6],\n",
              "       [1, 2],\n",
              "       [4, 0]])"
            ]
          },
          "metadata": {},
          "execution_count": 25
        }
      ]
    },
    {
      "cell_type": "code",
      "source": [
        "c = np.random.randint(1,20,size =(6,6))\n",
        "c"
      ],
      "metadata": {
        "colab": {
          "base_uri": "https://localhost:8080/"
        },
        "id": "owaqrkJtoP3k",
        "outputId": "5b1755ff-146b-4ece-bff9-d7669e3dfcb0"
      },
      "execution_count": null,
      "outputs": [
        {
          "output_type": "execute_result",
          "data": {
            "text/plain": [
              "array([[10,  5,  6,  2, 10,  9],\n",
              "       [ 7, 10,  6,  3, 19,  2],\n",
              "       [ 9,  5,  5,  6, 11,  3],\n",
              "       [ 1,  2, 11,  6, 12,  1],\n",
              "       [12, 13, 14,  8,  6, 14],\n",
              "       [12,  3,  3,  6,  4,  4]])"
            ]
          },
          "metadata": {},
          "execution_count": 28
        }
      ]
    },
    {
      "cell_type": "code",
      "source": [
        "e = np.random.randint(0,10,size =(5,5))\n",
        "e"
      ],
      "metadata": {
        "colab": {
          "base_uri": "https://localhost:8080/"
        },
        "id": "SI-j5Y05ojjj",
        "outputId": "2ce3d080-f19e-4582-d075-3644a51ac66d"
      },
      "execution_count": null,
      "outputs": [
        {
          "output_type": "execute_result",
          "data": {
            "text/plain": [
              "array([[2, 1, 3, 5, 7],\n",
              "       [1, 6, 4, 9, 6],\n",
              "       [9, 8, 1, 5, 3],\n",
              "       [7, 1, 5, 1, 8],\n",
              "       [5, 3, 6, 2, 9]])"
            ]
          },
          "metadata": {},
          "execution_count": 35
        }
      ]
    },
    {
      "cell_type": "code",
      "source": [
        "f = np.random.randint(0,10,size =(5,5))\n",
        "f"
      ],
      "metadata": {
        "colab": {
          "base_uri": "https://localhost:8080/"
        },
        "id": "VqE3IYU_pQe_",
        "outputId": "770f8b21-5a13-4a74-a77a-b4c33d9dd66d"
      },
      "execution_count": null,
      "outputs": [
        {
          "output_type": "execute_result",
          "data": {
            "text/plain": [
              "array([[6, 6, 3, 0, 2],\n",
              "       [5, 1, 7, 7, 6],\n",
              "       [6, 1, 9, 0, 6],\n",
              "       [5, 2, 2, 1, 0],\n",
              "       [4, 5, 1, 0, 8]])"
            ]
          },
          "metadata": {},
          "execution_count": 36
        }
      ]
    },
    {
      "cell_type": "code",
      "source": [
        "np.vstack([e,f])\n"
      ],
      "metadata": {
        "colab": {
          "base_uri": "https://localhost:8080/"
        },
        "id": "hVbU6-O6pLA0",
        "outputId": "781a0fba-ff31-4a53-8d4e-3acf1a5b1c55"
      },
      "execution_count": null,
      "outputs": [
        {
          "output_type": "execute_result",
          "data": {
            "text/plain": [
              "array([[2, 1, 3, 5, 7],\n",
              "       [1, 6, 4, 9, 6],\n",
              "       [9, 8, 1, 5, 3],\n",
              "       [7, 1, 5, 1, 8],\n",
              "       [5, 3, 6, 2, 9],\n",
              "       [6, 6, 3, 0, 2],\n",
              "       [5, 1, 7, 7, 6],\n",
              "       [6, 1, 9, 0, 6],\n",
              "       [5, 2, 2, 1, 0],\n",
              "       [4, 5, 1, 0, 8]])"
            ]
          },
          "metadata": {},
          "execution_count": 37
        }
      ]
    },
    {
      "cell_type": "code",
      "source": [
        "np.hstack([e,f])"
      ],
      "metadata": {
        "colab": {
          "base_uri": "https://localhost:8080/"
        },
        "id": "O_kbK7AppYuc",
        "outputId": "ad6b00cd-7950-41c0-e6d5-dc5d58effa04"
      },
      "execution_count": null,
      "outputs": [
        {
          "output_type": "execute_result",
          "data": {
            "text/plain": [
              "array([[2, 1, 3, 5, 7, 6, 6, 3, 0, 2],\n",
              "       [1, 6, 4, 9, 6, 5, 1, 7, 7, 6],\n",
              "       [9, 8, 1, 5, 3, 6, 1, 9, 0, 6],\n",
              "       [7, 1, 5, 1, 8, 5, 2, 2, 1, 0],\n",
              "       [5, 3, 6, 2, 9, 4, 5, 1, 0, 8]])"
            ]
          },
          "metadata": {},
          "execution_count": 38
        }
      ]
    },
    {
      "cell_type": "code",
      "source": [
        "e1,e2 = np.vsplit(d,[3])"
      ],
      "metadata": {
        "id": "-q-YwNvUpcO6"
      },
      "execution_count": null,
      "outputs": []
    },
    {
      "cell_type": "code",
      "source": [
        "e1"
      ],
      "metadata": {
        "colab": {
          "base_uri": "https://localhost:8080/"
        },
        "id": "bLOT0xdFp3iM",
        "outputId": "79e9198c-fb54-4a72-fcf3-a77feb62b1cc"
      },
      "execution_count": null,
      "outputs": [
        {
          "output_type": "execute_result",
          "data": {
            "text/plain": [
              "array([[4, 5, 4, 5, 6],\n",
              "       [8, 1, 1, 0, 7],\n",
              "       [0, 8, 6, 9, 7]])"
            ]
          },
          "metadata": {},
          "execution_count": 40
        }
      ]
    },
    {
      "cell_type": "code",
      "source": [
        "e2"
      ],
      "metadata": {
        "colab": {
          "base_uri": "https://localhost:8080/"
        },
        "id": "QgMA01zSp_2e",
        "outputId": "e7a09df9-275b-4bab-b640-b55b58e8cca2"
      },
      "execution_count": null,
      "outputs": [
        {
          "output_type": "execute_result",
          "data": {
            "text/plain": [
              "array([[8, 1, 2, 3, 8],\n",
              "       [9, 4, 0, 4, 9]])"
            ]
          },
          "metadata": {},
          "execution_count": 41
        }
      ]
    },
    {
      "cell_type": "code",
      "source": [
        "e.ndim"
      ],
      "metadata": {
        "colab": {
          "base_uri": "https://localhost:8080/"
        },
        "id": "2-wQAOBgqEiF",
        "outputId": "d62c92d4-0d9c-45ac-fdff-79a0e05ae42b"
      },
      "execution_count": null,
      "outputs": [
        {
          "output_type": "execute_result",
          "data": {
            "text/plain": [
              "2"
            ]
          },
          "metadata": {},
          "execution_count": 42
        }
      ]
    },
    {
      "cell_type": "code",
      "source": [
        "e.shape"
      ],
      "metadata": {
        "colab": {
          "base_uri": "https://localhost:8080/"
        },
        "id": "T8PyV8HHqIBd",
        "outputId": "b848e5e3-8fdd-4b5b-d049-cbf32d68a05d"
      },
      "execution_count": null,
      "outputs": [
        {
          "output_type": "execute_result",
          "data": {
            "text/plain": [
              "(5, 5)"
            ]
          },
          "metadata": {},
          "execution_count": 43
        }
      ]
    },
    {
      "cell_type": "code",
      "source": [
        "e.size"
      ],
      "metadata": {
        "colab": {
          "base_uri": "https://localhost:8080/"
        },
        "id": "Qd57iFNxqKmh",
        "outputId": "25306afb-48dc-4114-e4c8-084424752a98"
      },
      "execution_count": null,
      "outputs": [
        {
          "output_type": "execute_result",
          "data": {
            "text/plain": [
              "25"
            ]
          },
          "metadata": {},
          "execution_count": 46
        }
      ]
    },
    {
      "cell_type": "code",
      "source": [
        "e.reshape(25,1)"
      ],
      "metadata": {
        "colab": {
          "base_uri": "https://localhost:8080/"
        },
        "id": "-5mcjIYbqkNX",
        "outputId": "4a1e5f39-6591-44e1-f1d8-ff67ee82ecc3"
      },
      "execution_count": null,
      "outputs": [
        {
          "output_type": "execute_result",
          "data": {
            "text/plain": [
              "array([[2],\n",
              "       [1],\n",
              "       [3],\n",
              "       [5],\n",
              "       [7],\n",
              "       [1],\n",
              "       [6],\n",
              "       [4],\n",
              "       [9],\n",
              "       [6],\n",
              "       [9],\n",
              "       [8],\n",
              "       [1],\n",
              "       [5],\n",
              "       [3],\n",
              "       [7],\n",
              "       [1],\n",
              "       [5],\n",
              "       [1],\n",
              "       [8],\n",
              "       [5],\n",
              "       [3],\n",
              "       [6],\n",
              "       [2],\n",
              "       [9]])"
            ]
          },
          "metadata": {},
          "execution_count": 47
        }
      ]
    },
    {
      "cell_type": "code",
      "source": [
        "a = np.array([(1,2,3),(4,5,6)])\n",
        "a"
      ],
      "metadata": {
        "colab": {
          "base_uri": "https://localhost:8080/"
        },
        "id": "j5-qfLswrHRc",
        "outputId": "fdcb19f0-88b3-4eb1-80fe-7351a3fb59ee"
      },
      "execution_count": null,
      "outputs": [
        {
          "output_type": "execute_result",
          "data": {
            "text/plain": [
              "array([[1, 2, 3],\n",
              "       [4, 5, 6]])"
            ]
          },
          "metadata": {},
          "execution_count": 48
        }
      ]
    },
    {
      "cell_type": "code",
      "source": [
        "\n",
        "import time\n",
        "import sys"
      ],
      "metadata": {
        "id": "1_UHNlKysN5N"
      },
      "execution_count": null,
      "outputs": []
    },
    {
      "cell_type": "code",
      "source": [
        "s = range(1000)\n",
        "print(sys.getsizeof(5)*len(s))"
      ],
      "metadata": {
        "colab": {
          "base_uri": "https://localhost:8080/"
        },
        "id": "x3eU0uOIsZJX",
        "outputId": "48c4a48d-ea0b-4c3a-b87c-ecccbc0201d0"
      },
      "execution_count": null,
      "outputs": [
        {
          "output_type": "stream",
          "name": "stdout",
          "text": [
            "28000\n"
          ]
        }
      ]
    },
    {
      "cell_type": "code",
      "source": [
        "D = np.arange(1000)"
      ],
      "metadata": {
        "id": "dPH8VmgWsx47"
      },
      "execution_count": null,
      "outputs": []
    },
    {
      "cell_type": "code",
      "source": [
        "print(D.size*D.itemsize)"
      ],
      "metadata": {
        "colab": {
          "base_uri": "https://localhost:8080/"
        },
        "id": "aQEb3s6ps9im",
        "outputId": "a6c9e808-aac2-4815-d0b9-05f2073ab50b"
      },
      "execution_count": null,
      "outputs": [
        {
          "output_type": "stream",
          "name": "stdout",
          "text": [
            "8000\n"
          ]
        }
      ]
    },
    {
      "cell_type": "code",
      "source": [
        "a.sum()"
      ],
      "metadata": {
        "colab": {
          "base_uri": "https://localhost:8080/"
        },
        "id": "kANXVyeYtCEW",
        "outputId": "b348c7be-b369-4ef7-923e-b166d6e19ac3"
      },
      "execution_count": null,
      "outputs": [
        {
          "output_type": "execute_result",
          "data": {
            "text/plain": [
              "21"
            ]
          },
          "metadata": {},
          "execution_count": 53
        }
      ]
    },
    {
      "cell_type": "code",
      "source": [
        "a.sum(axis = 1)"
      ],
      "metadata": {
        "colab": {
          "base_uri": "https://localhost:8080/"
        },
        "id": "JkZ1dZoCtMp0",
        "outputId": "16fc3265-8671-487d-bb26-41b19efb2b29"
      },
      "execution_count": null,
      "outputs": [
        {
          "output_type": "execute_result",
          "data": {
            "text/plain": [
              "array([ 6, 15])"
            ]
          },
          "metadata": {},
          "execution_count": 54
        }
      ]
    },
    {
      "cell_type": "code",
      "source": [
        "np.sqrt(a)"
      ],
      "metadata": {
        "colab": {
          "base_uri": "https://localhost:8080/"
        },
        "id": "XZjvaGoLtW_i",
        "outputId": "61f700f9-fc78-4332-90b7-bc73a46f4fd3"
      },
      "execution_count": null,
      "outputs": [
        {
          "output_type": "execute_result",
          "data": {
            "text/plain": [
              "array([[1.        , 1.41421356, 1.73205081],\n",
              "       [2.        , 2.23606798, 2.44948974]])"
            ]
          },
          "metadata": {},
          "execution_count": 55
        }
      ]
    },
    {
      "cell_type": "code",
      "source": [
        "np.mean(a)"
      ],
      "metadata": {
        "colab": {
          "base_uri": "https://localhost:8080/"
        },
        "id": "FUlmw1HgtemU",
        "outputId": "cbccf614-3e40-4e9f-8656-c75d4ad14a29"
      },
      "execution_count": null,
      "outputs": [
        {
          "output_type": "execute_result",
          "data": {
            "text/plain": [
              "3.5"
            ]
          },
          "metadata": {},
          "execution_count": 56
        }
      ]
    },
    {
      "cell_type": "code",
      "source": [
        "b = np.array([(7,8,9),(1,2,3)])\n",
        "b"
      ],
      "metadata": {
        "colab": {
          "base_uri": "https://localhost:8080/"
        },
        "id": "TLz_BAyotl-X",
        "outputId": "3f2f431e-2ecd-4040-9c64-ceaa947a8cd2"
      },
      "execution_count": null,
      "outputs": [
        {
          "output_type": "execute_result",
          "data": {
            "text/plain": [
              "array([[7, 8, 9],\n",
              "       [1, 2, 3]])"
            ]
          },
          "metadata": {},
          "execution_count": 58
        }
      ]
    },
    {
      "cell_type": "code",
      "source": [
        "print(a+b)"
      ],
      "metadata": {
        "colab": {
          "base_uri": "https://localhost:8080/"
        },
        "id": "qioCyOILtyEV",
        "outputId": "bba32e94-8143-4b92-d2ca-d783c16cba70"
      },
      "execution_count": null,
      "outputs": [
        {
          "output_type": "stream",
          "name": "stdout",
          "text": [
            "[[ 8 10 12]\n",
            " [ 5  7  9]]\n"
          ]
        }
      ]
    },
    {
      "cell_type": "code",
      "source": [
        "print(a*b)"
      ],
      "metadata": {
        "colab": {
          "base_uri": "https://localhost:8080/"
        },
        "id": "lKzVr4HWt3le",
        "outputId": "2468a778-8fa9-4250-ad77-54e502f83276"
      },
      "execution_count": null,
      "outputs": [
        {
          "output_type": "stream",
          "name": "stdout",
          "text": [
            "[[ 7 16 27]\n",
            " [ 4 10 18]]\n"
          ]
        }
      ]
    },
    {
      "cell_type": "code",
      "source": [
        "a.ravel()"
      ],
      "metadata": {
        "colab": {
          "base_uri": "https://localhost:8080/"
        },
        "id": "TZu8L4UVt7E4",
        "outputId": "8674508a-ce02-48bd-87b5-9baa271efdee"
      },
      "execution_count": null,
      "outputs": [
        {
          "output_type": "execute_result",
          "data": {
            "text/plain": [
              "array([1, 2, 3, 4, 5, 6])"
            ]
          },
          "metadata": {},
          "execution_count": 61
        }
      ]
    },
    {
      "cell_type": "markdown",
      "source": [
        "15-03-2022\n",
        "\n",
        "Task-10\n",
        "\n",
        "Data Visualization\n",
        "\n",
        "\n",
        "1. What is data visualization?\n",
        "2. Why data visualization?"
      ],
      "metadata": {
        "id": "9fZDgw8gsvgw"
      }
    },
    {
      "cell_type": "code",
      "source": [
        "import numpy as np\n",
        "import matplotlib.pyplot as plt"
      ],
      "metadata": {
        "id": "-41Kh-O9uUNZ"
      },
      "execution_count": null,
      "outputs": []
    },
    {
      "cell_type": "code",
      "source": [
        "x = np.arange(0,3*np.pi,0.1)\n",
        "y = np.sin(x)\n",
        "plt.plot(x,y)"
      ],
      "metadata": {
        "colab": {
          "base_uri": "https://localhost:8080/",
          "height": 282
        },
        "id": "zK44FZItsTad",
        "outputId": "0280688a-2642-4281-f90a-7e79a314afb8"
      },
      "execution_count": null,
      "outputs": [
        {
          "output_type": "execute_result",
          "data": {
            "text/plain": [
              "[<matplotlib.lines.Line2D at 0x7fcca368c290>]"
            ]
          },
          "metadata": {},
          "execution_count": 3
        },
        {
          "output_type": "display_data",
          "data": {
            "text/plain": [
              "<Figure size 432x288 with 1 Axes>"
            ],
            "image/png": "[encoded data removed]"
          },
          "metadata": {
            "needs_background": "light"
          }
        }
      ]
    },
    {
      "cell_type": "code",
      "source": [
        "ar = np.array([1,2,3])\n",
        "np.exp(ar)"
      ],
      "metadata": {
        "colab": {
          "base_uri": "https://localhost:8080/"
        },
        "id": "k5xsNwWssYDv",
        "outputId": "4b1adf88-5e38-4d4c-e1e3-c494efb8f5e1"
      },
      "execution_count": null,
      "outputs": [
        {
          "output_type": "execute_result",
          "data": {
            "text/plain": [
              "array([ 2.71828183,  7.3890561 , 20.08553692])"
            ]
          },
          "metadata": {},
          "execution_count": 4
        }
      ]
    },
    {
      "cell_type": "code",
      "source": [
        "np.log(ar)"
      ],
      "metadata": {
        "colab": {
          "base_uri": "https://localhost:8080/"
        },
        "id": "5YHTfdcZtArA",
        "outputId": "ea0649f3-13f9-46f5-f57a-740a15bc294f"
      },
      "execution_count": null,
      "outputs": [
        {
          "output_type": "execute_result",
          "data": {
            "text/plain": [
              "array([0.        , 0.69314718, 1.09861229])"
            ]
          },
          "metadata": {},
          "execution_count": 5
        }
      ]
    },
    {
      "cell_type": "code",
      "source": [
        "np.log10(ar)"
      ],
      "metadata": {
        "colab": {
          "base_uri": "https://localhost:8080/"
        },
        "id": "OIUeQwXFtFxj",
        "outputId": "06bc5da4-25ac-4980-d809-a2a3a142f3ef"
      },
      "execution_count": null,
      "outputs": [
        {
          "output_type": "execute_result",
          "data": {
            "text/plain": [
              "array([0.        , 0.30103   , 0.47712125])"
            ]
          },
          "metadata": {},
          "execution_count": 6
        }
      ]
    },
    {
      "cell_type": "code",
      "source": [
        "!pip install matplotlib"
      ],
      "metadata": {
        "colab": {
          "base_uri": "https://localhost:8080/"
        },
        "id": "T0cw7REYtJKp",
        "outputId": "44b9351a-bc5c-498d-d59d-d7ad9fae5d81"
      },
      "execution_count": null,
      "outputs": [
        {
          "output_type": "stream",
          "name": "stdout",
          "text": [
            "Requirement already satisfied: matplotlib in /usr/local/lib/python3.7/dist-packages (3.2.2)\n",
            "Requirement already satisfied: kiwisolver>=1.0.1 in /usr/local/lib/python3.7/dist-packages (from matplotlib) (1.3.2)\n",
            "Requirement already satisfied: pyparsing!=2.0.4,!=2.1.2,!=2.1.6,>=2.0.1 in /usr/local/lib/python3.7/dist-packages (from matplotlib) (3.0.7)\n",
            "Requirement already satisfied: numpy>=1.11 in /usr/local/lib/python3.7/dist-packages (from matplotlib) (1.21.5)\n",
            "Requirement already satisfied: python-dateutil>=2.1 in /usr/local/lib/python3.7/dist-packages (from matplotlib) (2.8.2)\n",
            "Requirement already satisfied: cycler>=0.10 in /usr/local/lib/python3.7/dist-packages (from matplotlib) (0.11.0)\n",
            "Requirement already satisfied: six>=1.5 in /usr/local/lib/python3.7/dist-packages (from python-dateutil>=2.1->matplotlib) (1.15.0)\n"
          ]
        }
      ]
    },
    {
      "cell_type": "code",
      "source": [
        "import matplotlib.pyplot as plt"
      ],
      "metadata": {
        "id": "1fWS7VVktk8t"
      },
      "execution_count": null,
      "outputs": []
    },
    {
      "cell_type": "code",
      "source": [
        "x = [2017,2018,2019,2020,2021]\n",
        "y = [432,341,234,389,348]\n",
        "plt.plot(x,y)"
      ],
      "metadata": {
        "colab": {
          "base_uri": "https://localhost:8080/",
          "height": 282
        },
        "id": "G2_kbAdsw81n",
        "outputId": "df441164-d94c-4c3c-a3aa-da1b0acb4991"
      },
      "execution_count": null,
      "outputs": [
        {
          "output_type": "execute_result",
          "data": {
            "text/plain": [
              "[<matplotlib.lines.Line2D at 0x7fcc99cf9a10>]"
            ]
          },
          "metadata": {},
          "execution_count": 9
        },
        {
          "output_type": "display_data",
          "data": {
            "text/plain": [
              "<Figure size 432x288 with 1 Axes>"
            ],
            "image/png": "[encoded data removed]"
          },
          "metadata": {
            "needs_background": "light"
          }
        }
      ]
    },
    {
      "cell_type": "code",
      "source": [
        "years = [1980,1988,2970,1800,2002,2001,2019,2016,1978]\n",
        "pops = [1,2,3,4,5,6,7,8,9]\n",
        "plt.plot(years,pops, color = 'red')\n",
        "plt.ylabel(\"population in billions\")\n",
        "plt.xlabel(\"population growth by year\")\n",
        "plt.title('population growth')\n",
        "plt.savefig('a.png')"
      ],
      "metadata": {
        "colab": {
          "base_uri": "https://localhost:8080/",
          "height": 295
        },
        "id": "FnUfCPjlxQl4",
        "outputId": "f16711ab-a1a7-4727-e505-a57c80f4c6ee"
      },
      "execution_count": null,
      "outputs": [
        {
          "output_type": "display_data",
          "data": {
            "text/plain": [
              "<Figure size 432x288 with 1 Axes>"
            ],
            "image/png": "[encoded data removed]"
          },
          "metadata": {
            "needs_background": "light"
          }
        }
      ]
    },
    {
      "cell_type": "code",
      "source": [
        "#plotting two graphs together\n",
        "\n",
        "x = [1,2,3]\n",
        "y = [5,9,4]\n",
        "x2 = [1,2,3]\n",
        "y2 = [10,14,12]\n",
        "\n",
        "plt.plot(x,y, label = 'first line')\n",
        "plt.plot(x2,y2, label = 'second line')\n",
        "plt.xlabel('plot number')\n",
        "plt.ylabel('Importatnt var')\n",
        "plt.title('interesting graph')\n",
        "plt.legend()"
      ],
      "metadata": {
        "colab": {
          "base_uri": "https://localhost:8080/",
          "height": 312
        },
        "id": "3tlPF9rFxtEw",
        "outputId": "acf7a459-4a30-409f-8ece-a8ee92387114"
      },
      "execution_count": null,
      "outputs": [
        {
          "output_type": "execute_result",
          "data": {
            "text/plain": [
              "<matplotlib.legend.Legend at 0x7fcc999a5d50>"
            ]
          },
          "metadata": {},
          "execution_count": 17
        },
        {
          "output_type": "display_data",
          "data": {
            "text/plain": [
              "<Figure size 432x288 with 1 Axes>"
            ],
            "image/png": "[encoded data removed]"
          },
          "metadata": {
            "needs_background": "light"
          }
        }
      ]
    },
    {
      "cell_type": "code",
      "source": [
        "years = [1980,1988,2970,1800,2002,2001,2019,2016,1978]\n",
        "pops = [1,2,3,4,5,6,7,8,9]\n",
        "deaths = [2,6,8,3,5,4,3,4,6]\n",
        "plt.plot(years,pops,'*',color = 'blue',label = 'Birth by year')\n",
        "plt.plot(years,deaths,'*',color = 'red',label = 'Death by year')\n",
        "plt.ylabel(\"population in billions\")\n",
        "plt.xlabel(\"population start by year\")\n",
        "plt.title(\"population grwoth\")\n",
        "plt.legend()"
      ],
      "metadata": {
        "colab": {
          "base_uri": "https://localhost:8080/",
          "height": 312
        },
        "id": "WV4jRiNSzPEw",
        "outputId": "83928dfa-f9ad-47fa-ad03-09aaa7a3486f"
      },
      "execution_count": null,
      "outputs": [
        {
          "output_type": "execute_result",
          "data": {
            "text/plain": [
              "<matplotlib.legend.Legend at 0x7fcc998e2e10>"
            ]
          },
          "metadata": {},
          "execution_count": 18
        },
        {
          "output_type": "display_data",
          "data": {
            "text/plain": [
              "<Figure size 432x288 with 1 Axes>"
            ],
            "image/png": "[encoded data removed]"
          },
          "metadata": {
            "needs_background": "light"
          }
        }
      ]
    },
    {
      "cell_type": "code",
      "source": [
        "years = [1980,1988,2970,1800,2002,2001,2019,2016,1978]\n",
        "pops = [1,2,3,4,5,6,7,8,9]\n",
        "deaths = [2,6,8,3,5,4,3,4,6]\n",
        "lines = plt.plot(years,pops,years,deaths)\n",
        "plt.grid()\n",
        "plt.setp(lines,color = 'green', marker = '*')"
      ],
      "metadata": {
        "colab": {
          "base_uri": "https://localhost:8080/",
          "height": 282
        },
        "id": "VLaz2x0T0eNW",
        "outputId": "09b5077d-fccb-4873-fb1b-c06b5527f5e4"
      },
      "execution_count": null,
      "outputs": [
        {
          "output_type": "execute_result",
          "data": {
            "text/plain": [
              "[None, None, None, None]"
            ]
          },
          "metadata": {},
          "execution_count": 19
        },
        {
          "output_type": "display_data",
          "data": {
            "text/plain": [
              "<Figure size 432x288 with 1 Axes>"
            ],
            "image/png": "[encoded data removed]"
          },
          "metadata": {
            "needs_background": "light"
          }
        }
      ]
    },
    {
      "cell_type": "code",
      "source": [
        "labels = ['python','C','php','java','ruby','C#']\n",
        "sizes = [33,56,12,37,10,21]\n",
        "plt.pie(sizes, labels = labels, autopct = '%1.1f%%')\n",
        "plt.axis('equal')"
      ],
      "metadata": {
        "colab": {
          "base_uri": "https://localhost:8080/",
          "height": 318
        },
        "id": "xNaApVnJ1Iob",
        "outputId": "44d0346b-d140-45ad-e2b7-1eca8557e538"
      },
      "execution_count": null,
      "outputs": [
        {
          "output_type": "execute_result",
          "data": {
            "text/plain": [
              "(-1.1158459898795274,\n",
              " 1.1007545709466442,\n",
              " -1.127571664201889,\n",
              " 1.1171307401698471)"
            ]
          },
          "metadata": {},
          "execution_count": 21
        },
        {
          "output_type": "display_data",
          "data": {
            "text/plain": [
              "<Figure size 432x288 with 1 Axes>"
            ],
            "image/png": "[encoded data removed]"
          },
          "metadata": {}
        }
      ]
    },
    {
      "cell_type": "code",
      "source": [
        "import pandas as pd\n",
        "raw_data = {'names':['Nick','Sani','John','Rubi','Maya'],\n",
        "            'jan_ir':[123,124,125,126,128],\n",
        "            'feb_ir':[23,24,25,27,29],\n",
        "            'march_ir':[3,5,7,6,9]}\n",
        "df = pd.DataFrame(raw_data,columns = ['names','jan_ir','feb_ir','march_ir'])"
      ],
      "metadata": {
        "id": "1qy3tSAO2SYw"
      },
      "execution_count": null,
      "outputs": []
    },
    {
      "cell_type": "code",
      "source": [
        "df"
      ],
      "metadata": {
        "colab": {
          "base_uri": "https://localhost:8080/",
          "height": 206
        },
        "id": "7VvJjLF0324i",
        "outputId": "f8772185-8997-4e5b-f1bc-fb4cbc2aac90"
      },
      "execution_count": null,
      "outputs": [
        {
          "output_type": "execute_result",
          "data": {
            "text/plain": [
              "  names  jan_ir  feb_ir  march_ir\n",
              "0  Nick     123      23         3\n",
              "1  Sani     124      24         5\n",
              "2  John     125      25         7\n",
              "3  Rubi     126      27         6\n",
              "4  Maya     128      29         9"
            ],
            "text/html": [
              "\n",
              "  <div id=\"df-4e5a756d-8216-4dcd-ab92-66554a9bd966\">\n",
              "    <div class=\"colab-df-container\">\n",
              "      <div>\n",
              "<style scoped>\n",
              "    .dataframe tbody tr th:only-of-type {\n",
              "        vertical-align: middle;\n",
              "    }\n",
              "\n",
              "    .dataframe tbody tr th {\n",
              "        vertical-align: top;\n",
              "    }\n",
              "\n",
              "    .dataframe thead th {\n",
              "        text-align: right;\n",
              "    }\n",
              "</style>\n",
              "<table border=\"1\" class=\"dataframe\">\n",
              "  <thead>\n",
              "    <tr style=\"text-align: right;\">\n",
              "      <th></th>\n",
              "      <th>names</th>\n",
              "      <th>jan_ir</th>\n",
              "      <th>feb_ir</th>\n",
              "      <th>march_ir</th>\n",
              "    </tr>\n",
              "  </thead>\n",
              "  <tbody>\n",
              "    <tr>\n",
              "      <th>0</th>\n",
              "      <td>Nick</td>\n",
              "      <td>123</td>\n",
              "      <td>23</td>\n",
              "      <td>3</td>\n",
              "    </tr>\n",
              "    <tr>\n",
              "      <th>1</th>\n",
              "      <td>Sani</td>\n",
              "      <td>124</td>\n",
              "      <td>24</td>\n",
              "      <td>5</td>\n",
              "    </tr>\n",
              "    <tr>\n",
              "      <th>2</th>\n",
              "      <td>John</td>\n",
              "      <td>125</td>\n",
              "      <td>25</td>\n",
              "      <td>7</td>\n",
              "    </tr>\n",
              "    <tr>\n",
              "      <th>3</th>\n",
              "      <td>Rubi</td>\n",
              "      <td>126</td>\n",
              "      <td>27</td>\n",
              "      <td>6</td>\n",
              "    </tr>\n",
              "    <tr>\n",
              "      <th>4</th>\n",
              "      <td>Maya</td>\n",
              "      <td>128</td>\n",
              "      <td>29</td>\n",
              "      <td>9</td>\n",
              "    </tr>\n",
              "  </tbody>\n",
              "</table>\n",
              "</div>\n",
              "      <button class=\"colab-df-convert\" onclick=\"convertToInteractive('df-4e5a756d-8216-4dcd-ab92-66554a9bd966')\"\n",
              "              title=\"Convert this dataframe to an interactive table.\"\n",
              "              style=\"display:none;\">\n",
              "        \n",
              "  <svg xmlns=\"http://www.w3.org/2000/svg\" height=\"24px\"viewBox=\"0 0 24 24\"\n",
              "       width=\"24px\">\n",
              "    <path d=\"M0 0h24v24H0V0z\" fill=\"none\"/>\n",
              "    <path d=\"M18.56 5.44l.94 2.06.94-2.06 2.06-.94-2.06-.94-.94-2.06-.94 2.06-2.06.94zm-11 1L8.5 8.5l.94-2.06 2.06-.94-2.06-.94L8.5 2.5l-.94 2.06-2.06.94zm10 10l.94 2.06.94-2.06 2.06-.94-2.06-.94-.94-2.06-.94 2.06-2.06.94z\"/><path d=\"M17.41 7.96l-1.37-1.37c-.4-.4-.92-.59-1.43-.59-.52 0-1.04.2-1.43.59L10.3 9.45l-7.72 7.72c-.78.78-.78 2.05 0 2.83L4 21.41c.39.39.9.59 1.41.59.51 0 1.02-.2 1.41-.59l7.78-7.78 2.81-2.81c.8-.78.8-2.07 0-2.86zM5.41 20L4 18.59l7.72-7.72 1.47 1.35L5.41 20z\"/>\n",
              "  </svg>\n",
              "      </button>\n",
              "      \n",
              "  <style>\n",
              "    .colab-df-container {\n",
              "      display:flex;\n",
              "      flex-wrap:wrap;\n",
              "      gap: 12px;\n",
              "    }\n",
              "\n",
              "    .colab-df-convert {\n",
              "      background-color: #E8F0FE;\n",
              "      border: none;\n",
              "      border-radius: 50%;\n",
              "      cursor: pointer;\n",
              "      display: none;\n",
              "      fill: #1967D2;\n",
              "      height: 32px;\n",
              "      padding: 0 0 0 0;\n",
              "      width: 32px;\n",
              "    }\n",
              "\n",
              "    .colab-df-convert:hover {\n",
              "      background-color: #E2EBFA;\n",
              "      box-shadow: 0px 1px 2px rgba(60, 64, 67, 0.3), 0px 1px 3px 1px rgba(60, 64, 67, 0.15);\n",
              "      fill: #174EA6;\n",
              "    }\n",
              "\n",
              "    [theme=dark] .colab-df-convert {\n",
              "      background-color: #3B4455;\n",
              "      fill: #D2E3FC;\n",
              "    }\n",
              "\n",
              "    [theme=dark] .colab-df-convert:hover {\n",
              "      background-color: #434B5C;\n",
              "      box-shadow: 0px 1px 3px 1px rgba(0, 0, 0, 0.15);\n",
              "      filter: drop-shadow(0px 1px 2px rgba(0, 0, 0, 0.3));\n",
              "      fill: #FFFFFF;\n",
              "    }\n",
              "  </style>\n",
              "\n",
              "      <script>\n",
              "        const buttonEl =\n",
              "          document.querySelector('#df-4e5a756d-8216-4dcd-ab92-66554a9bd966 button.colab-df-convert');\n",
              "        buttonEl.style.display =\n",
              "          google.colab.kernel.accessAllowed ? 'block' : 'none';\n",
              "\n",
              "        async function convertToInteractive(key) {\n",
              "          const element = document.querySelector('#df-4e5a756d-8216-4dcd-ab92-66554a9bd966');\n",
              "          const dataTable =\n",
              "            await google.colab.kernel.invokeFunction('convertToInteractive',\n",
              "                                                     [key], {});\n",
              "          if (!dataTable) return;\n",
              "\n",
              "          const docLinkHtml = 'Like what you see? Visit the ' +\n",
              "            '<a target=\"_blank\" href=https://colab.research.google.com/notebooks/data_table.ipynb>data table notebook</a>'\n",
              "            + ' to learn more about interactive tables.';\n",
              "          element.innerHTML = '';\n",
              "          dataTable['output_type'] = 'display_data';\n",
              "          await google.colab.output.renderOutput(dataTable, element);\n",
              "          const docLink = document.createElement('div');\n",
              "          docLink.innerHTML = docLinkHtml;\n",
              "          element.appendChild(docLink);\n",
              "        }\n",
              "      </script>\n",
              "    </div>\n",
              "  </div>\n",
              "  "
            ]
          },
          "metadata": {},
          "execution_count": 36
        }
      ]
    },
    {
      "cell_type": "code",
      "source": [
        "#create a pie start of total ir labels should be the names\n",
        "#make a new coloumn name total ir which is a sum of jan,feb and march\n",
        "#plot a pie chart using total_ir column and label as names column"
      ],
      "metadata": {
        "id": "7aVCEQHT34hz"
      },
      "execution_count": null,
      "outputs": []
    },
    {
      "cell_type": "code",
      "source": [
        "import pandas as pd\n",
        "names = {'names':['Nick','Sani','John','Rubi','Maya'],\n",
        "            'jan_ir':[123,124,125,126,128],\n",
        "            'feb_ir':[23,24,25,27,29],\n",
        "            'march_ir':[3,5,7,6,9]}\n",
        "df = pd.DataFrame(raw_data,columns = ['names','jan_ir','feb_ir','march_ir'])\n",
        "total = 'jan_ir' + 'feb_ir' + 'march_ir'\n",
        "plt.plot()"
      ],
      "metadata": {
        "colab": {
          "base_uri": "https://localhost:8080/",
          "height": 282
        },
        "id": "11kmGKEq5Ahz",
        "outputId": "8ddc1abf-4df0-4a8a-9cff-6f80eb68e018"
      },
      "execution_count": null,
      "outputs": [
        {
          "output_type": "execute_result",
          "data": {
            "text/plain": [
              "[]"
            ]
          },
          "metadata": {},
          "execution_count": 40
        },
        {
          "output_type": "display_data",
          "data": {
            "text/plain": [
              "<Figure size 432x288 with 1 Axes>"
            ],
            "image/png": "[encoded data removed]"
          },
          "metadata": {
            "needs_background": "light"
          }
        }
      ]
    },
    {
      "cell_type": "markdown",
      "source": [
        "16-03-2022 Task-11"
      ],
      "metadata": {
        "id": "OaHSg9R5IF6U"
      }
    },
    {
      "cell_type": "code",
      "source": [
        "#Bar graph\n",
        "import numpy as np\n",
        "import matplotlib.pyplot as plt\n",
        "korea_scores = (554,536,538)\n",
        "canada_scores = (518,523,525)\n",
        "china_scores = (413,570,580)\n",
        "france_scores = (495,505,499)\n",
        "index = np.arange(3)\n",
        "bar_width = 0.2\n",
        "k1 = plt.bar(index,korea_scores,bar_width,alpha = 0.9,label = 'korea' )\n",
        "c1 = plt.bar(index+bar_width,canada_scores,bar_width,alpha = 0.9,label = 'canada' )\n",
        "ch1 = plt.bar(index+bar_width*2,china_scores,bar_width,alpha = 0.9,label = 'china' )\n",
        "f1 = plt.bar(index+bar_width*3,france_scores,bar_width,alpha = 0.9,label = 'france' )\n",
        "plt.xticks(index+.3,('maths','reading','science'))\n",
        "plt.ylabel('mean scores in PISA 2021')\n",
        "plt.xlabel('subjects')\n",
        "plt.title('test score by country')\n",
        "plt.grid(True)\n",
        "plt.legend()"
      ],
      "metadata": {
        "colab": {
          "base_uri": "https://localhost:8080/",
          "height": 312
        },
        "id": "xi7GnTtwIKys",
        "outputId": "95699e5f-f1d9-41f1-9225-58016157e3b4"
      },
      "execution_count": null,
      "outputs": [
        {
          "output_type": "execute_result",
          "data": {
            "text/plain": [
              "<matplotlib.legend.Legend at 0x7fcca2779050>"
            ]
          },
          "metadata": {},
          "execution_count": 2
        },
        {
          "output_type": "display_data",
          "data": {
            "text/plain": [
              "<Figure size 432x288 with 1 Axes>"
            ],
            "image/png": "[encoded data removed]"
          },
          "metadata": {
            "needs_background": "light"
          }
        }
      ]
    },
    {
      "cell_type": "code",
      "source": [
        "plt.bar([1,3,5,7,9],[5,2,7,8,2],label = 'Example one')\n",
        "plt.bar([2,34,6,8,10],[8,6,2,5,6],label = 'Example two',color='g')\n",
        "plt.legend()\n",
        "plt.xlabel('bar number')\n",
        "plt.ylabel('bar width')\n",
        "plt.title('simple bar graph')"
      ],
      "metadata": {
        "colab": {
          "base_uri": "https://localhost:8080/",
          "height": 312
        },
        "id": "4Uq9aRvrIpW2",
        "outputId": "64abe9eb-d52f-40a8-a5ec-69f63802988e"
      },
      "execution_count": null,
      "outputs": [
        {
          "output_type": "execute_result",
          "data": {
            "text/plain": [
              "Text(0.5, 1.0, 'simple bar graph')"
            ]
          },
          "metadata": {},
          "execution_count": 3
        },
        {
          "output_type": "display_data",
          "data": {
            "text/plain": [
              "<Figure size 432x288 with 1 Axes>"
            ],
            "image/png": "[encoded data removed]"
          },
          "metadata": {
            "needs_background": "light"
          }
        }
      ]
    },
    {
      "cell_type": "code",
      "source": [
        "#histogram\n",
        "population_ages = [12,34,15,67,87,34,345,678,433,45,22,345,332,566,456,765,654,345,564]\n",
        "bins=[10,20,30,40,50,60,70,80,90,100]\n",
        "plt.hist(population_ages,bins,color = 'black')\n",
        "plt.title('histogram')\n",
        "plt.xlabel('bins')\n",
        "plt.ylabel('population')"
      ],
      "metadata": {
        "colab": {
          "base_uri": "https://localhost:8080/",
          "height": 312
        },
        "id": "aOttrgVEIsOh",
        "outputId": "d2a6e267-2ab2-4f6c-dd46-82643e92bbba"
      },
      "execution_count": null,
      "outputs": [
        {
          "output_type": "execute_result",
          "data": {
            "text/plain": [
              "Text(0, 0.5, 'population')"
            ]
          },
          "metadata": {},
          "execution_count": 4
        },
        {
          "output_type": "display_data",
          "data": {
            "text/plain": [
              "<Figure size 432x288 with 1 Axes>"
            ],
            "image/png": "[encoded data removed]"
          },
          "metadata": {
            "needs_background": "light"
          }
        }
      ]
    },
    {
      "cell_type": "code",
      "source": [
        "#scatterplot\n",
        "x = [1,2,3,4,5,6,7,8]\n",
        "y = [5,2,3,1,4,5,6,7]\n",
        "plt.scatter(x,y,label = 'scatter plot',color='g',marker='*')\n",
        "plt.xlabel('this is x axis')\n",
        "plt.ylabel('this is y axis')\n",
        "plt.title('scatter plot')"
      ],
      "metadata": {
        "colab": {
          "base_uri": "https://localhost:8080/",
          "height": 312
        },
        "id": "gclUCvezIuvp",
        "outputId": "320299d0-148d-476d-d3eb-23b747f55251"
      },
      "execution_count": null,
      "outputs": [
        {
          "output_type": "execute_result",
          "data": {
            "text/plain": [
              "Text(0.5, 1.0, 'scatter plot')"
            ]
          },
          "metadata": {},
          "execution_count": 5
        },
        {
          "output_type": "display_data",
          "data": {
            "text/plain": [
              "<Figure size 432x288 with 1 Axes>"
            ],
            "image/png": "[encoded data removed]"
          },
          "metadata": {
            "needs_background": "light"
          }
        }
      ]
    },
    {
      "cell_type": "code",
      "source": [
        "x = [1,2,3,4,5,6,7,8]\n",
        "y = [5,2,3,1,4,5,6,7]\n",
        "plt.scatter(x,y,label = 'scatter plot',color='k')\n",
        "plt.xlabel('this is x axis')\n",
        "plt.ylabel('this is y axis')\n",
        "plt.title('scatter plot')"
      ],
      "metadata": {
        "colab": {
          "base_uri": "https://localhost:8080/",
          "height": 312
        },
        "id": "nZQ9gahqIy-d",
        "outputId": "326f38fc-d0ee-4317-c204-8b3374ad8763"
      },
      "execution_count": null,
      "outputs": [
        {
          "output_type": "execute_result",
          "data": {
            "text/plain": [
              "Text(0.5, 1.0, 'scatter plot')"
            ]
          },
          "metadata": {},
          "execution_count": 6
        },
        {
          "output_type": "display_data",
          "data": {
            "text/plain": [
              "<Figure size 432x288 with 1 Axes>"
            ],
            "image/png": "[encoded data removed]"
          },
          "metadata": {
            "needs_background": "light"
          }
        }
      ]
    },
    {
      "cell_type": "code",
      "source": [
        "#stackplot\n",
        "days = [1,2,3,4,5]\n",
        "sleeping = [7,8,6,11,7]\n",
        "eating = [2,3,4,3,2]\n",
        "working = [7,8,7,2,2]\n",
        "playing = [4,5,3,2,1]\n",
        "plt.stackplot(days,sleeping,eating,working,playing,colors=['m','c','r','k'])\n",
        "plt.title('stackplot')\n",
        "plt.xlabel('x axis')\n",
        "plt.ylabel('y axis')\n",
        "plt.legend('dsewp')"
      ],
      "metadata": {
        "colab": {
          "base_uri": "https://localhost:8080/",
          "height": 312
        },
        "id": "tZRCvaOjIy45",
        "outputId": "451716ac-4617-4c59-8a7a-448abe099b5e"
      },
      "execution_count": null,
      "outputs": [
        {
          "output_type": "execute_result",
          "data": {
            "text/plain": [
              "<matplotlib.legend.Legend at 0x7fcca2045690>"
            ]
          },
          "metadata": {},
          "execution_count": 7
        },
        {
          "output_type": "display_data",
          "data": {
            "text/plain": [
              "<Figure size 432x288 with 1 Axes>"
            ],
            "image/png": "[encoded data removed]"
          },
          "metadata": {
            "needs_background": "light"
          }
        }
      ]
    },
    {
      "cell_type": "code",
      "source": [
        "#line 3d plot\n",
        "from mpl_toolkits.mplot3d import axes3d\n",
        "import matplotlib.pyplot as plt\n",
        "from matplotlib import style\n",
        "\n",
        "style.use('fivethirtyeight')\n",
        "\n",
        "fig = plt.figure()\n",
        "ax1 = fig.add_subplot(111,projection = '3d')\n",
        "\n",
        "x = [1,2,3,4,5,6,7,8,9,10]\n",
        "y = [1,5,3,6,3,6,3,9,6,3]\n",
        "z = [4,2,7,5,7,9,5,4,3,5]\n",
        "\n",
        "ax1.plot(x,y,z,c = 'g',marker = 'o')\n",
        "\n",
        "ax1.set_xlabel('x-axis')\n",
        "ax1.set_ylabel('y-axis')\n",
        "ax1.set_zlabel('z-axis')\n",
        "\n"
      ],
      "metadata": {
        "colab": {
          "base_uri": "https://localhost:8080/",
          "height": 282
        },
        "id": "ltMbRbsmIyyJ",
        "outputId": "0339c5a1-79ae-4d6e-fc95-16f2511ed4ae"
      },
      "execution_count": null,
      "outputs": [
        {
          "output_type": "execute_result",
          "data": {
            "text/plain": [
              "Text(0.5, 0, 'z-axis')"
            ]
          },
          "metadata": {},
          "execution_count": 8
        },
        {
          "output_type": "display_data",
          "data": {
            "text/plain": [
              "<Figure size 432x288 with 1 Axes>"
            ],
            "image/png": "[encoded data removed]"
          },
          "metadata": {}
        }
      ]
    },
    {
      "cell_type": "code",
      "source": [
        "#line 3d plot\n",
        "from mpl_toolkits.mplot3d import axes3d\n",
        "import matplotlib.pyplot as plt\n",
        "from matplotlib import style\n",
        "\n",
        "style.use('ggplot')\n",
        "\n",
        "fig = plt.figure()\n",
        "ax1 = fig.add_subplot(111,projection = '3d')\n",
        "\n",
        "x = [1,2,3,4,5,6,7,8,9,10]\n",
        "y = [1,5,3,6,3,6,3,9,6,3]\n",
        "z = [4,2,7,5,7,9,5,4,3,5]\n",
        "\n",
        "ax1.scatter(x,y,z,c = 'g',marker = 'o')\n",
        "\n",
        "ax1.set_xlabel('x-axis')\n",
        "ax1.set_ylabel('y-axis')\n",
        "ax1.set_zlabel('z-axis')\n"
      ],
      "metadata": {
        "colab": {
          "base_uri": "https://localhost:8080/",
          "height": 282
        },
        "id": "eO9j-waVIypQ",
        "outputId": "8702aaa0-2795-4f99-86fb-73b4484e15cb"
      },
      "execution_count": null,
      "outputs": [
        {
          "output_type": "execute_result",
          "data": {
            "text/plain": [
              "Text(0.5, 0, 'z-axis')"
            ]
          },
          "metadata": {},
          "execution_count": 9
        },
        {
          "output_type": "display_data",
          "data": {
            "text/plain": [
              "<Figure size 432x288 with 1 Axes>"
            ],
            "image/png": "[encoded data removed]"
          },
          "metadata": {}
        }
      ]
    },
    {
      "cell_type": "code",
      "source": [
        "#line 3d plot\n",
        "from mpl_toolkits.mplot3d import axes3d\n",
        "import matplotlib.pyplot as plt\n",
        "from matplotlib import style\n",
        "\n",
        "style.use('fivethirtyeight')\n",
        "\n",
        "fig = plt.figure()\n",
        "ax1 = fig.add_subplot(111,projection = '3d')\n",
        "\n",
        "x = [1,2,3,4,5,6,7,8,9,10]\n",
        "y = [1,5,3,6,3,6,3,9,6,3]\n",
        "z = np.zeros(10)\n",
        "\n",
        "dx = np.ones(10)\n",
        "dy = np.ones(10)\n",
        "dz = [1,2,3,4,5,6,7,8,9,10]\n",
        "\n",
        "ax1.bar3d(x,y,z,dx,dy,dz)\n",
        "\n",
        "ax1.set_xlabel('x-axis')\n",
        "ax1.set_ylabel('y-axis')\n",
        "ax1.set_zlabel('z-axis')"
      ],
      "metadata": {
        "colab": {
          "base_uri": "https://localhost:8080/",
          "height": 282
        },
        "id": "5XzyiR_BJAdj",
        "outputId": "b6d07423-c5c4-43d8-ad90-861ac3a1e53f"
      },
      "execution_count": null,
      "outputs": [
        {
          "output_type": "execute_result",
          "data": {
            "text/plain": [
              "Text(0.5, 0, 'z-axis')"
            ]
          },
          "metadata": {},
          "execution_count": 10
        },
        {
          "output_type": "display_data",
          "data": {
            "text/plain": [
              "<Figure size 432x288 with 1 Axes>"
            ],
            "image/png": "[encoded data removed]"
          },
          "metadata": {}
        }
      ]
    },
    {
      "cell_type": "code",
      "source": [
        "#wireframeplot\n",
        "\n",
        "from mpl_toolkits.mplot3d import axes3d\n",
        "import matplotlib.pyplot as plt\n",
        "from matplotlib import style\n",
        "\n",
        "style.use('fivethirtyeight')\n",
        "\n",
        "fig = plt.figure()\n",
        "ax1 = fig.add_subplot(111,projection = '3d')\n",
        "\n",
        "x,y,z = axes3d.get_test_data()\n",
        "ax1.plot_wireframe(x,y,z,rstride = 3,cstride =3)\n",
        "\n",
        "ax1.set_xlabel('x-axis')\n",
        "ax1.set_ylabel('y-axis')\n",
        "ax1.set_zlabel('z-axis')"
      ],
      "metadata": {
        "colab": {
          "base_uri": "https://localhost:8080/",
          "height": 282
        },
        "id": "I3jfpzt8JAZy",
        "outputId": "7666759c-4832-4cc1-bf6c-f30000c3a092"
      },
      "execution_count": null,
      "outputs": [
        {
          "output_type": "execute_result",
          "data": {
            "text/plain": [
              "Text(0.5, 0, 'z-axis')"
            ]
          },
          "metadata": {},
          "execution_count": 12
        },
        {
          "output_type": "display_data",
          "data": {
            "text/plain": [
              "<Figure size 432x288 with 1 Axes>"
            ],
            "image/png": "[encoded data removed]"
          },
          "metadata": {}
        }
      ]
    }
  ]
}